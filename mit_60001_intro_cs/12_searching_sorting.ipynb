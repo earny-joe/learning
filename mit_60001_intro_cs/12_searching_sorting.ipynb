{
  "nbformat": 4,
  "nbformat_minor": 0,
  "metadata": {
    "colab": {
      "name": "12-searching-sorting.ipynb",
      "provenance": [],
      "collapsed_sections": []
    },
    "kernelspec": {
      "name": "python3",
      "display_name": "Python 3"
    }
  },
  "cells": [
    {
      "cell_type": "markdown",
      "metadata": {
        "id": "gpiXuKxxy_Xo",
        "colab_type": "text"
      },
      "source": [
        "# _12. Searching and Sorting_\n",
        "\n",
        "Notebook follows along with the [twelfth video](https://www.youtube.com/watch?v=6LOwPhPDwVc&list=PLUl4u3cNGP63WbdFxL8giv4yhgdMGaZNA&index=39&t=0s) in MIT's 6.0001 Introduction to Computer Science and Programming in Python, Fall 2016.\n",
        "\n",
        "### _Searching Algorithms_\n",
        "\n",
        "- linear search\n",
        "    - brute force search (aka British Museum algorithm)\n",
        "    - list does not have to be sorted\n",
        "- bisection search\n",
        "    - list **MUST be sorted** to give correct answer\n",
        "    - saw two different implementations of the algorithm\n",
        "\n",
        "### _Linear Search on Unsorted List: Recap_"
      ]
    },
    {
      "cell_type": "code",
      "metadata": {
        "id": "wXqlCh4byqvA",
        "colab_type": "code",
        "colab": {}
      },
      "source": [
        "def linear_search(L, e):\n",
        "    found = False\n",
        "    for i in range(len(L)):\n",
        "        if e == L[i]: # speeding up a little by returning True here\n",
        "            found = True # but doesn't impact worst case\n",
        "    return found"
      ],
      "execution_count": 0,
      "outputs": []
    },
    {
      "cell_type": "markdown",
      "metadata": {
        "id": "PykaH4nN0H1_",
        "colab_type": "text"
      },
      "source": [
        "- must look through all elements to decide it's not there\n",
        "- _O(len(L))_ for the loop * _O(1)_ to test if `e == L[i]`\n",
        "- overall complexity is **O(n) - where n is `len(L)`**\n",
        "\n",
        "### _Linear Search on Sorted List: Recap_"
      ]
    },
    {
      "cell_type": "code",
      "metadata": {
        "id": "PXvJUBkg0G8S",
        "colab_type": "code",
        "colab": {}
      },
      "source": [
        "def search(L, e):\n",
        "    for i in range(len(L)):\n",
        "        if L[i] == e:\n",
        "            return True\n",
        "        if L[i] > e:\n",
        "            return False\n",
        "    return False"
      ],
      "execution_count": 0,
      "outputs": []
    },
    {
      "cell_type": "markdown",
      "metadata": {
        "id": "wWSdS7iU1T22",
        "colab_type": "text"
      },
      "source": [
        "### _Bisection Search Implementation: Recap_"
      ]
    },
    {
      "cell_type": "code",
      "metadata": {
        "id": "1aFDBaMU0-i5",
        "colab_type": "code",
        "colab": {}
      },
      "source": [
        "def bisect_search2(L, e):\n",
        "    def bisect_search_helper(L, e, low, high):\n",
        "        if high == low:\n",
        "            return L[low] == e\n",
        "        mid = (low + high)//2\n",
        "        if L[mid] == e:\n",
        "            return True\n",
        "        elif L[mid] > e:\n",
        "            if low == mid: # nothing left to search\n",
        "                return False\n",
        "            else:\n",
        "                return bisect_search_helper(L, e, low, mid - 1)\n",
        "        else:\n",
        "            return bisect_search_helper(L, e, mid + 1, high)\n",
        "    if len(L) == 0:\n",
        "        return False\n",
        "    else:\n",
        "        return bisect_search_helper(L, e, 0, len(L) - 1)"
      ],
      "execution_count": 0,
      "outputs": []
    },
    {
      "cell_type": "markdown",
      "metadata": {
        "id": "M7KezHTk3DMq",
        "colab_type": "text"
      },
      "source": [
        "### _Searching a Sorted List -- n is len(L)_\n",
        "\n",
        "- using linear search, search for an element is _O(n)_\n",
        "- using binary search, can search for an element in _O(log n)_\n",
        "    - assuming the list is sorted\n",
        "- when does it make sense to sort first then search?\n",
        "    - SORT + _O(log n)_ < _O(n)_ --> SORT < _O(n)_ - _O(log n)_\n",
        "    - when sorting is less than _O(n)_\n",
        "\n",
        "### _Amortized Cost_\n",
        "\n",
        "- why bother sorting first?\n",
        "- in some cases, may sort a list once then do many searches\n",
        "- **AMORTIZE cost** of the sort over many searches\n",
        "- SORT + K*_O(log n)_ < K*_O(n)_\n",
        "    - for large K, sort time becomes irrelevant, if cost of sorting is small enough\n",
        "\n",
        "### _Monkey Sort_\n",
        "\n",
        "- aka bogosort, stupid sort, slowsort, permutation sort, shotgun sort\n",
        "\n",
        "### _Complexity of bogo sort_"
      ]
    },
    {
      "cell_type": "code",
      "metadata": {
        "id": "8mdVz-QJ11MU",
        "colab_type": "code",
        "colab": {}
      },
      "source": [
        "def bogo_sort(L):\n",
        "    while not is_sorted(L):\n",
        "        random.shuffle(L)"
      ],
      "execution_count": 0,
      "outputs": []
    },
    {
      "cell_type": "markdown",
      "metadata": {
        "id": "MUvA6YeO8vbD",
        "colab_type": "text"
      },
      "source": [
        "- best case: _O(n)_ where n is `len(L)` to check if sorted\n",
        "- worst case: _O(?)_ it is unbounded if really unlucky\n",
        "\n",
        "### _Bubble Sort_\n",
        "\n",
        "- compare consecutive pairs of elements\n",
        "- swap elements in pair such that smaller is first\n",
        "- when reach end of list, start over again\n",
        "- stop when no more swaps have been made\n",
        "- largest unsorted element always at end after pass, so at most n passes\n",
        "\n",
        "### _Complexity of Bubble Sort_"
      ]
    },
    {
      "cell_type": "code",
      "metadata": {
        "id": "NAUk-sGZ8u3K",
        "colab_type": "code",
        "colab": {}
      },
      "source": [
        "def bubble_sort(L):\n",
        "    swap = False\n",
        "    while not swap:\n",
        "        print('bubble sort: ' + str(L))\n",
        "        swap = True\n",
        "        for j in range(1, len(L)):\n",
        "            if L[j-1] > L[j]:\n",
        "                swap = False\n",
        "                temp = L[j]\n",
        "                L[j] = L[j-1]\n",
        "                L[j-1] = temp"
      ],
      "execution_count": 0,
      "outputs": []
    },
    {
      "cell_type": "code",
      "metadata": {
        "id": "mr8X46hb-AQt",
        "colab_type": "code",
        "colab": {
          "base_uri": "https://localhost:8080/",
          "height": 119
        },
        "outputId": "2a774619-500c-4670-90b2-7b81df88218d"
      },
      "source": [
        "test_list = [1, 3, 5, 7, 2, 6, 25, 18, 13]\n",
        "\n",
        "print(bubble_sort(test_list))\n",
        "print(test_list)"
      ],
      "execution_count": 12,
      "outputs": [
        {
          "output_type": "stream",
          "text": [
            "bubble sort: [1, 3, 5, 7, 2, 6, 25, 18, 13]\n",
            "bubble sort: [1, 3, 5, 2, 6, 7, 18, 13, 25]\n",
            "bubble sort: [1, 3, 2, 5, 6, 7, 13, 18, 25]\n",
            "bubble sort: [1, 2, 3, 5, 6, 7, 13, 18, 25]\n",
            "None\n",
            "[1, 2, 3, 5, 6, 7, 13, 18, 25]\n"
          ],
          "name": "stdout"
        }
      ]
    },
    {
      "cell_type": "markdown",
      "metadata": {
        "id": "i1ghvUAU-BP3",
        "colab_type": "text"
      },
      "source": [
        "- inner for loop is for doing the comparisons\n",
        "- outer while loop is for doing multiple passes until no more swaps\n",
        "- _O(n**2)_ where n is `len(L)` to do len(L)-1 comparisons and len(L)-1 passes\n",
        "\n",
        "### _Selection Sort_\n",
        "\n",
        "- first step\n",
        "    - extract minimum element\n",
        "    - swap it with element at index 0\n",
        "- subsequent step\n",
        "    - in remaining sublist, extract minimum element\n",
        "    - swap it with the element at index 1\n",
        "- keep the left portion of the list sorted\n",
        "    - at `i`'th step, first i elements in list are sorted\n",
        "    - all other elements are bigger than first i elements\n",
        "\n",
        "### _Analyzing Selection Sort_\n",
        "\n",
        "- loop invariant\n",
        "    - given prefix of list `L[0:i]` and suffix `L[i+1:len(L)]` then prefix is sorted and no element in prefix is larger than smallest element in suffix\n",
        "        1. base case: prefix empty, suffix whole list - invariant true\n",
        "        2. induction step: move minimum element from suffix to end of prefix. Since invariant true before move, prefix sorted after append\n",
        "        3. when exit, prefix is entire list, suffix empty, so sorted\n",
        "\n",
        "### _Complexity of Selection Sort_"
      ]
    },
    {
      "cell_type": "code",
      "metadata": {
        "id": "eLfQaiZy-kFJ",
        "colab_type": "code",
        "colab": {}
      },
      "source": [
        "def selection_sort(L):\n",
        "    suffixSt = 0\n",
        "    while suffixSt != len(L):\n",
        "        for i in range(suffixSt, len(L)):\n",
        "            if L[i] < L[suffixSt]:\n",
        "                L[suffixSt], L[i] = L[i], L[suffixSt]\n",
        "        suffixSt += 1"
      ],
      "execution_count": 0,
      "outputs": []
    },
    {
      "cell_type": "markdown",
      "metadata": {
        "id": "ETqPJgqNL6He",
        "colab_type": "text"
      },
      "source": [
        "- outer loop executes `len(L)` times\n",
        "- inner loop executes `len(L) - i` times\n",
        "- complexity of selection sort is _O(n**2) where n is len(L)_\n",
        "\n",
        "### _Merge Sort_\n",
        "\n",
        "- divide and conquer\n",
        "- split list in half until have sublists of only 1 element\n",
        "- merge such that sublists will be sorted after merge\n",
        "\n",
        "### _Merging Sublists Step_"
      ]
    },
    {
      "cell_type": "code",
      "metadata": {
        "id": "cqnzgweyB66d",
        "colab_type": "code",
        "colab": {}
      },
      "source": [
        "def merge(left, right):\n",
        "    result = []\n",
        "    i, j = 0, 0\n",
        "    while i < len(left) and j < len(right): # left and right sublists are ordered\n",
        "        if left[i] < right[j]: # move indices for sublists depending on which sublist holds next smallest element\n",
        "            result.append(left[i])\n",
        "            i += 1\n",
        "        else:\n",
        "            result.append(right[j])\n",
        "            j += 1\n",
        "    while (i < len(left)): # when right sublist is empty\n",
        "        result.append(left[i])\n",
        "        i += 1\n",
        "    while (j < len(right)): # when left sublist is empty\n",
        "        result.append(right[j])\n",
        "        j += 1\n",
        "    return result"
      ],
      "execution_count": 0,
      "outputs": []
    },
    {
      "cell_type": "markdown",
      "metadata": {
        "id": "kMMH-DdMQOyx",
        "colab_type": "text"
      },
      "source": [
        "### _Complexity of Merging Sublists Step_\n",
        "\n",
        "- go through two lists, only one pass\n",
        "- compare only smallest elements in each sublist\n",
        "- _O(len(left) + len(right))_ copied elements\n",
        "- _O(len(longer list))_ comparisons\n",
        "- linear in length of the lists\n",
        "\n",
        "### _Merge Sort Algorithm --  Recursive_"
      ]
    },
    {
      "cell_type": "code",
      "metadata": {
        "id": "HNvtMf4yOwdw",
        "colab_type": "code",
        "colab": {}
      },
      "source": [
        "def merge_sort(L):\n",
        "    print(f'merge sort: {str(L)}')\n",
        "    if len(L) < 2: # base case\n",
        "        return L[:]\n",
        "    else:\n",
        "        middle = len(L)//2\n",
        "        left = merge_sort(L[:middle]) # divide\n",
        "        right = merge_sort(L[middle:])\n",
        "        return merge(left, right) # conquer with the merge step"
      ],
      "execution_count": 0,
      "outputs": []
    },
    {
      "cell_type": "markdown",
      "metadata": {
        "id": "GtB7kNl-Q2wP",
        "colab_type": "text"
      },
      "source": [
        "- divide list successively into halves\n",
        "- depth-first such that conquer smallest pieces down one branch first before moving to larger pieces"
      ]
    },
    {
      "cell_type": "code",
      "metadata": {
        "id": "hi39QS-VQ1xm",
        "colab_type": "code",
        "colab": {
          "base_uri": "https://localhost:8080/",
          "height": 323
        },
        "outputId": "6ceae998-fdec-4782-e220-ec1ec84dc5b4"
      },
      "source": [
        "testList = [1,3,5,7,2,6,25,18,13]\n",
        "print(merge_sort(testList))"
      ],
      "execution_count": 20,
      "outputs": [
        {
          "output_type": "stream",
          "text": [
            "merge sort: [1, 3, 5, 7, 2, 6, 25, 18, 13]\n",
            "merge sort: [1, 3, 5, 7]\n",
            "merge sort: [1, 3]\n",
            "merge sort: [1]\n",
            "merge sort: [3]\n",
            "merge sort: [5, 7]\n",
            "merge sort: [5]\n",
            "merge sort: [7]\n",
            "merge sort: [2, 6, 25, 18, 13]\n",
            "merge sort: [2, 6]\n",
            "merge sort: [2]\n",
            "merge sort: [6]\n",
            "merge sort: [25, 18, 13]\n",
            "merge sort: [25]\n",
            "merge sort: [18, 13]\n",
            "merge sort: [18]\n",
            "merge sort: [13]\n",
            "[1, 2, 3, 5, 6, 7, 13, 18, 25]\n"
          ],
          "name": "stdout"
        }
      ]
    },
    {
      "cell_type": "markdown",
      "metadata": {
        "id": "W3sUfQ6iXIqA",
        "colab_type": "text"
      },
      "source": [
        "### _Complexity of Merge Sort_\n",
        "\n",
        "- at first recursion level\n",
        "    - n/2 elements in each list\n",
        "    - _O(n)_ + _O(n)_ = _O(n)_ where n is len(L)\n",
        "- at second recursion level\n",
        "    - n/4 elements in each list\n",
        "    - two merges --> _O(n)_ where n is len(L)\n",
        "- each recursion level is _O(n)_ where n is len(L)\n",
        "- dividing list in half with each recursive call\n",
        "    - _O(log(n))_ where n is len(L)\n",
        "- overall complexity is _O(n log(n))_ where n is len(L)\n",
        "\n",
        "### _The Three A's of Computational Thinking_\n",
        "\n",
        "- abstraction\n",
        "    - choosing the right abstractions\n",
        "    - operating in multiple layers of abstraction simultaneously\n",
        "    - defining the relationships between abstraction layers\n",
        "- automation\n",
        "    - think in terms of mechanizing our abstractions\n",
        "    - mechanization is possible - because we have precise and exacting notations and models; and because there is some \"machine\" that can interpret our notations\n",
        "-algorithms\n",
        "    - language for describing automated processes\n",
        "    - also allows abstraction of details\n",
        "    "
      ]
    }
  ]
}