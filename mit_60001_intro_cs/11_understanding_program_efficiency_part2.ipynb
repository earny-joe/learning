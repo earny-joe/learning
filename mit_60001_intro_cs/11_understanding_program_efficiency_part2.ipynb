{
  "nbformat": 4,
  "nbformat_minor": 0,
  "metadata": {
    "colab": {
      "name": "11-understanding-program-efficiency-part2.ipynb",
      "provenance": [],
      "collapsed_sections": []
    },
    "kernelspec": {
      "name": "python3",
      "display_name": "Python 3"
    }
  },
  "cells": [
    {
      "cell_type": "markdown",
      "metadata": {
        "id": "b3gGkBMHAv2M",
        "colab_type": "text"
      },
      "source": [
        "# _11. Understanding Program Efficiency, Part 2_\n",
        "\n",
        "Notebook follows along with the [eleventh video](https://www.youtube.com/watch?v=7lQXYl_L28w) in MIT's 6.0001 Introduction to Computer Science and Programming in Python, Fall 2016.\n",
        "\n",
        "### _Complexity Classes: Recap_\n",
        "\n",
        "- _O(1)_ denotes constant running time\n",
        "- _O(log n)_ denotes logarithmic running time\n",
        "- _O(n)_ denotes linear running time\n",
        "- _O(n log n)_ denotes log-linear running time\n",
        "- _O(n**c)_ denotes polynomial running time (c is a constant)\n",
        "- _O(c**n)_ denotes exponential running time (c is a constant being raised to a power based on size of input)\n",
        "\n",
        "### _Constant Complexity_\n",
        "\n",
        "- complexity independent of inputs\n",
        "- very few interesting algorithms in this class, but can often have pieces that fit this class\n",
        "- can have loops or recursive calls, but only if number of iterations or calls independent of size of input\n",
        "\n",
        "### _Bisection Search_\n",
        "\n",
        "1. pick an index, `i`, that divides list in half\n",
        "2. ask if `L[i] == e`\n",
        "3. if not, ask if `L[i]` is larger or smaller than `e`\n",
        "4. depending on answer, search left or right half of `L` for `e`\n",
        "- a new version of a divide-and-conquer algorithm\n",
        "    - break into smaller versions of problem (smaller list) plus some simple operations\n",
        "    - answer to smaller version is answer to original problem\n",
        "\n",
        "### _Bisection Search Complexity Analysis_\n",
        "\n",
        "- finish looking through list when `1 = n/2**i` --> so `i = log n`\n",
        "- complexity of recursion is _O(log n)_ where n is `len(L)`\n",
        "\n",
        "### _Bisection Search Implementation 1_"
      ]
    },
    {
      "cell_type": "code",
      "metadata": {
        "id": "kk6geDmQ_4jX",
        "colab_type": "code",
        "colab": {}
      },
      "source": [
        "def bisect_search1(L, e):\n",
        "    if L == []: # constant\n",
        "        return False\n",
        "    elif len(L) == 1: # constant\n",
        "        return L[0] == e\n",
        "    else:\n",
        "        half = len(L) / 2 # constant\n",
        "        if L[half] > e: # not constant...\n",
        "            return bisect_search1(L[:half], e) # copies list\n",
        "        else:\n",
        "            return bisect_search1(L[half:], e) # copies list"
      ],
      "execution_count": 0,
      "outputs": []
    },
    {
      "cell_type": "markdown",
      "metadata": {
        "id": "58qKLCXkJBjE",
        "colab_type": "text"
      },
      "source": [
        "### _Complexity of First Bisection Search Method_\n",
        "\n",
        "- **implementation 1 - `bisect_search1`**\n",
        "    - _O(log n)_ bisection search calls\n",
        "        - on each recursive call, size of range to be search is cut in half\n",
        "        - if original range is size n, in worst case down to range of size 1 when `n/(2^k) = 1` or when `k = log n`\n",
        "    - _O(n)_ for each bisection search call to copy list\n",
        "        - this is the cost to set up each call, so do this for each level of recursion\n",
        "    - _O(log n)_ * _O(n)_ --> **O(n log n)**\n",
        "    - if we are really careful, not that length of list to be copied is also halved on each recursive call\n",
        "        - turns out that total cost to copy is _O(n)_ and this dominates the log n cost due to recursive calls\n",
        "\n",
        "### _Bisection Search Alternative_\n",
        "\n",
        "- still reduce size of problem by factor of two on each step\n",
        "- but just keep track of low and high portion of list to be searched\n",
        "- avoid copying the list\n",
        "- complexity of recursion is again _O(log n)_ where n is len(L)\n",
        "\n",
        "### _Bisection Search Implementation 2_"
      ]
    },
    {
      "cell_type": "code",
      "metadata": {
        "id": "MTKAUzrlIcoz",
        "colab_type": "code",
        "colab": {}
      },
      "source": [
        "def bisect_search2(L, e):\n",
        "    def bisect_search_helper(L, e, low, high):\n",
        "        if high == low:\n",
        "            return L[low] == e\n",
        "        mid = (low + high) // 2\n",
        "        if L[mid] == e:\n",
        "            return True\n",
        "        elif L[mid] > e:\n",
        "            if low == mid: # nothing left to search\n",
        "                return False\n",
        "            else:\n",
        "                return bisect_search_helper(L, e, low, mid - l) # constant other than recursive call\n",
        "        else:\n",
        "            return bisect_search_helper(L, e, mid + l, high) # constant other than recursive call\n",
        "    if len(L) == 0:\n",
        "        return False\n",
        "    else:\n",
        "        return bisect_search_helper(L, e, 0, len(L) - 1)"
      ],
      "execution_count": 0,
      "outputs": []
    },
    {
      "cell_type": "markdown",
      "metadata": {
        "id": "bWEOwHNvVCC4",
        "colab_type": "text"
      },
      "source": [
        "### _Logarithmic Complexity_"
      ]
    },
    {
      "cell_type": "code",
      "metadata": {
        "id": "-HNAVxjMUKhe",
        "colab_type": "code",
        "colab": {}
      },
      "source": [
        "def int_to_str(i):\n",
        "    digits = '0123456789'\n",
        "    if i == 0:\n",
        "        return '0'\n",
        "    result = ''\n",
        "    while i > 0:\n",
        "        result = digits[i%10] + result \n",
        "        i = i//10\n",
        "    return result"
      ],
      "execution_count": 0,
      "outputs": []
    },
    {
      "cell_type": "markdown",
      "metadata": {
        "id": "rujF6CyOVlSV",
        "colab_type": "text"
      },
      "source": [
        "- only have to look at loop as no function calls\n",
        "- within while loop, constant number of steps\n",
        "- how many times through loop?\n",
        "    - how many times can one divide i by 10?\n",
        "        - _O(log(i))_\n",
        "\n",
        "### _O() for Iterative Factorial_\n",
        "\n",
        "- complexity can depend on number of iterative calls"
      ]
    },
    {
      "cell_type": "code",
      "metadata": {
        "id": "YoQANgfnVStK",
        "colab_type": "code",
        "colab": {}
      },
      "source": [
        "def fact_iter(n):\n",
        "    prod = 1\n",
        "    for i in range(1, n+1):\n",
        "        prod *= 1\n",
        "    return prod"
      ],
      "execution_count": 0,
      "outputs": []
    },
    {
      "cell_type": "markdown",
      "metadata": {
        "id": "s17XYYrRWOWw",
        "colab_type": "text"
      },
      "source": [
        "- overall _O(n)_ --> n times round loop, constant cost each time\n",
        "\n",
        "### _O() for Recursive Factorial_"
      ]
    },
    {
      "cell_type": "code",
      "metadata": {
        "id": "lvdGZx7hWN8c",
        "colab_type": "code",
        "colab": {}
      },
      "source": [
        "def fact_recur(n):\n",
        "    '''Assumes n >= 0'''\n",
        "    if n <= 1:\n",
        "        return 1\n",
        "    else: \n",
        "        return n*fact_recur(n - 1)"
      ],
      "execution_count": 0,
      "outputs": []
    },
    {
      "cell_type": "markdown",
      "metadata": {
        "id": "uUMDUMJSWu_L",
        "colab_type": "text"
      },
      "source": [
        "- computes factorial recursively\n",
        "- if you time it, may notice that it runs a bit slower than iterative version due to function calls\n",
        "- still _O(n)_ because the number of function calls is linear in n, and constant effort to set up call\n",
        "- iterative and recursive function implementations are the same order of growth\n",
        "\n",
        "### _Log-linear Complexity_\n",
        "\n",
        "- many practical algorithms are log-linear\n",
        "- very commonly used log-linear algorithm is merge sort\n",
        "- will return to this next lecture\n",
        "\n",
        "### _Polynomial Complexity_\n",
        "\n",
        "- most common polynomial algorithms are quadratic, i.e., complexity grows with square of size of input\n",
        "- commonly occurs when we have nested loops or recursive function calls\n",
        "\n",
        "### _Exponential Complexity_\n",
        "\n",
        "- recursive functions where more than one recursive call for each size of problem\n",
        "    - Towers of Hanoi\n",
        "- many important problems are inherently exponential\n",
        "    - unfortunate, as cost can be high\n",
        "    - will lead us to consider approximate solutions as may provide reasonable answer more quickly\n",
        "\n",
        "### _Complexity of Towers of Hanoi_\n",
        "\n",
        "- Let $t_{n}$ denote time to solve tower of size n\n",
        "- $t_{n}$ = $2^{k} t_{n-k}+2^{k-1}+\\ldots+4+2+1$\n",
        "    - $=2^{n-1}+2^{n-2}+\\ldots+4+2+1$\n",
        "    - $=2^{n}-1$\n",
        "- so order of growth is _O(2**n)_\n",
        "\n",
        "### _Exponential Complexity_\n",
        "\n",
        "- given a set of integers with no repeats, want to generate the collection of all possible subsets - called the power set\n",
        "\n",
        "### _Power Set - Concept_\n",
        "\n",
        "- we want to generate the power set of integers from 1 to n\n",
        "- assume we can generate power set of integers from 1 to n - 1\n",
        "- then all of those subsets below to bigger power set (choosing not include n)\n",
        "    - all all of those subsets with n added to each of them also belong to the bigger power set (choosing to include n)\n",
        "\n",
        "### _Exponential Complexity_"
      ]
    },
    {
      "cell_type": "code",
      "metadata": {
        "id": "AMXFw7cGWoUd",
        "colab_type": "code",
        "colab": {}
      },
      "source": [
        "def gen_subsets(L):\n",
        "    if len(L) == 0:\n",
        "        return [[]] # list of empty list / constant time\n",
        "    smaller = gen_subsets(L[:-1]) # all subsets without last element / constant\n",
        "    extra = L[-1:] # create a list of just last element / constant\n",
        "    new = []\n",
        "    for small in smaller:\n",
        "        new.append(small + extra) # for all smaller solutions, add one with last element / going to be growing exponentially\n",
        "    return smaller + new"
      ],
      "execution_count": 0,
      "outputs": []
    },
    {
      "cell_type": "markdown",
      "metadata": {
        "id": "WBD1Q3zZh5mA",
        "colab_type": "text"
      },
      "source": [
        "- assuming append is constant time\n",
        "- time includes time to solve smaller problem, plus time needed to make a copy of all elements in smaller problem\n",
        "    - but important to think about size of `smaller`\n",
        "    - know that for a set of size `k` there are `2**k` cases\n",
        "    - how can we deduce overall complexity?\n",
        "\n",
        "### _Complexity Classes_\n",
        "\n",
        "- _O(1)_ --> code does not depend on size of problem\n",
        "- _O(log n)_ --> reduce problem in half each time through process\n",
        "- _O(n)_ --> simple iterative or recursive programs\n",
        "- _O(n log n)_ --> will see next time\n",
        "- _O(n**c)_ --> nested loops or recursive calls\n",
        "- _O(c**n)_ --> multiple recursive calls at each level\n",
        "\n",
        "### _Complexity of Iterative Fibonacci_"
      ]
    },
    {
      "cell_type": "code",
      "metadata": {
        "id": "BK6DLn4ThugV",
        "colab_type": "code",
        "colab": {}
      },
      "source": [
        "def fib_iter(n):\n",
        "    if n == 0: # constant\n",
        "        return 0\n",
        "    elif n == 1:\n",
        "        return 1\n",
        "    else:\n",
        "        fib_i = 0 # constant\n",
        "        fib_ii = 1\n",
        "        for i in range(n - 1): # linear O(n)\n",
        "            tmp = fib_i\n",
        "            fib_i = fib_ii\n",
        "            fib_ii = tmp + fib_ii\n",
        "        return fib_ii "
      ],
      "execution_count": 0,
      "outputs": []
    },
    {
      "cell_type": "markdown",
      "metadata": {
        "id": "ENMOHC34kj4Y",
        "colab_type": "text"
      },
      "source": [
        "- best case --> _O(1)_\n",
        "- worst case --> O(1) + O(n) + O(1) = _O(n)_\n",
        "\n",
        "### _Complexity of Recursive Fibonacci_"
      ]
    },
    {
      "cell_type": "code",
      "metadata": {
        "id": "znmb90E7kIoW",
        "colab_type": "code",
        "colab": {}
      },
      "source": [
        "def fib_recur(n):\n",
        "    ''' assumes n an int >= 0'''\n",
        "    if n == 0:\n",
        "        return 0\n",
        "    elif n == 1:\n",
        "        return 1\n",
        "    else:\n",
        "        return fib_recur(n-1) + fib_recur(n-2)"
      ],
      "execution_count": 0,
      "outputs": []
    },
    {
      "cell_type": "markdown",
      "metadata": {
        "id": "Zn53SRtclvaE",
        "colab_type": "text"
      },
      "source": [
        "### _Complexity of Common Python Functions_\n",
        "\n",
        "- lists: `n` is `len(L)`\n",
        "    - index = O(1)\n",
        "    - store = O(1)\n",
        "    - length = O(1)\n",
        "    - append = O(1)\n",
        "    - == = O(n)\n",
        "    - remove = O(n)\n",
        "    - copy = O(n)\n",
        "    - reverse = O(n)\n",
        "    - iteration = O(n)\n",
        "    - in list = O(n)\n",
        "- dictionaries: `n` is `len(d)`\n",
        "    - worst case:\n",
        "        - index = O(n)\n",
        "        - store = O(n)\n",
        "        - length = O(n)\n",
        "        - delete = O(n)\n",
        "        - iteration = O(n)\n",
        "    - average case:\n",
        "        - index = O(1)\n",
        "        - store = O(1)\n",
        "        - delete = O(1)\n",
        "        - iteration = O(n)"
      ]
    }
  ]
}