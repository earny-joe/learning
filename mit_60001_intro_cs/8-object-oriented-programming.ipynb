{
 "cells": [
  {
   "cell_type": "markdown",
   "metadata": {
    "colab_type": "text",
    "id": "YONfOUXyIdry"
   },
   "source": [
    "# _8. Object Oriented Programming_\n",
    "\n",
    "Notebook follows along with the [eigth video](https://www.youtube.com/watch?v=-DP1i2ZU9gk&list=PLUl4u3cNGP63WbdFxL8giv4yhgdMGaZNA&index=27) in MIT's 6.0001 Introduction to Computer Science and Programming in Python, Fall 2016.\n",
    "\n",
    "### _Objects_\n",
    "\n",
    "- Python supports many different kinds of data\n",
    "\n",
    "```\n",
    "1234    3.14159     'Hello'    [1, 5, 7, 11, 13]\n",
    "{'CA': 'California', 'MA': 'Massachusetts'}\n",
    "```\n",
    "\n",
    "- each is an **object** and every object has a:\n",
    "    - _type_\n",
    "    - an internal _data representation_ (primitive or composite)\n",
    "    - a set of procedures for _interaction_ with the object\n",
    "- an object is an **instance** of a type\n",
    "    - `1234` is an instance of `int`\n",
    "    - `'hello'` is an instance of a string\n",
    "    \n",
    "\n",
    "### _Object Oriented Programming_\n",
    "\n",
    "- **everything in Python is an object (and has a type)**\n",
    "- can **create new objects** of some type\n",
    "- can **manipulate objects**\n",
    "- can **destroy objects**\n",
    "    - explicitly using `del` or just 'forget' about them\n",
    "    - python system will reclaim destroyed or inaccessible objects - called '_garbage collection_'\n",
    "    \n",
    "    \n",
    "### _What are objects?_\n",
    "\n",
    "- objects are a _data abstraction_ that captures:\n",
    "    - (1) an _internal representation_ through data attributes\n",
    "    - (2) an _interface_ for interacting with object\n",
    "        - through methods (aka procedures/functions)\n",
    "        - defines behaviors but hides implementation\n",
    "\n",
    "\n",
    "### _Example: [1,2,3,4] has type list_\n",
    "\n",
    "- how are lists represented internally? --> _linked list of cells_\n",
    "- how to manipulate lists?\n",
    "    - `L[i], L[i:j], +`\n",
    "    - `len(), min(), max(), del(L[i])`\n",
    "    - `L.append(), L.extend(), L.count(), L.index()`\n",
    "    - `L.insert(), L.pop(), L.remove(), L.reverse(), L.sort()`\n",
    "- internal representation should be private\n",
    "- correct behavior may be compromised if you manipulate internal representation directly"
   ]
  },
  {
   "cell_type": "code",
   "execution_count": null,
   "metadata": {
    "colab": {
     "base_uri": "https://localhost:8080/",
     "height": 34
    },
    "colab_type": "code",
    "id": "n_U-RjH-Idr0",
    "outputId": "0f6d1ee4-c59d-41ae-9cbf-6625bdea1d15"
   },
   "outputs": [
    {
     "name": "stdout",
     "output_type": "stream",
     "text": [
      "[0, 1, 2, 3, 4]\n"
     ]
    }
   ],
   "source": [
    "test = list(range(5))\n",
    "print(test)"
   ]
  },
  {
   "cell_type": "code",
   "execution_count": null,
   "metadata": {
    "colab": {
     "base_uri": "https://localhost:8080/",
     "height": 34
    },
    "colab_type": "code",
    "id": "EH5rcUgSJDWc",
    "outputId": "fdc99431-8154-47af-dc2f-efcd2f027fff"
   },
   "outputs": [
    {
     "data": {
      "text/plain": [
       "(1, 2)"
      ]
     },
     "execution_count": 5,
     "metadata": {
      "tags": []
     },
     "output_type": "execute_result"
    }
   ],
   "source": [
    "test.count(3), test.index(2), "
   ]
  },
  {
   "cell_type": "markdown",
   "metadata": {
    "colab_type": "text",
    "id": "ihaA2hsCJn5s"
   },
   "source": [
    "### _Creating and Using Your Own Types with Classes_\n",
    "\n",
    "- make a disintction between creating a class and using an instance of the class\n",
    "- creating the class involves\n",
    "    - defining the class name\n",
    "    - defining class attributes\n",
    "- using the class involves\n",
    "    - create new instances of objects \n",
    "    - doing operations on the instances\n",
    "    - for example call `len` on a list\n",
    "\n",
    "### _Define Your Own Types_\n",
    "\n",
    "- use `class` keyword to define a new type"
   ]
  },
  {
   "cell_type": "code",
   "execution_count": null,
   "metadata": {
    "colab": {},
    "colab_type": "code",
    "id": "hu2wjERdJMrL"
   },
   "outputs": [],
   "source": [
    "# example\n",
    "class Coordinate(object):\n",
    "    # define attribute here"
   ]
  },
  {
   "cell_type": "markdown",
   "metadata": {
    "colab_type": "text",
    "id": "rVh6734NKwQq"
   },
   "source": [
    "- similar to `def` for functions\n",
    "    - indent code to indicate which statements are part of the class definition\n",
    "- `object` means that `Coordinates` is a Python object\n",
    "    - inherits all its attributes \n",
    "    - `Coordinate` is a subclass of `object`\n",
    "    - `object` is a superclass of `Coordinate`\n",
    "\n",
    "### _What are attributes?_\n",
    "\n",
    "- data and procedure that \"belong\" to the class\n",
    "- data attributes\n",
    "    - think of data as other objects that make up the class\n",
    "    - example, coordinate is made up of two numbers\n",
    "- methods (prodcedural attributes)\n",
    "    - methods are like functions that ony work with a particular class\n",
    "    - allow us to interact with the object\n",
    "\n",
    "### _Defining how to create an instance of a class_\n",
    "\n",
    "- first have to define how to create an instance of object\n",
    "- use special method `__init__` to init some data attributes\n",
    "- `self` is placeholder for instance"
   ]
  },
  {
   "cell_type": "code",
   "execution_count": null,
   "metadata": {
    "colab": {},
    "colab_type": "code",
    "id": "blArTkHVJN6K"
   },
   "outputs": [],
   "source": [
    "class Coordinate(object):\n",
    "    # __init__: special method to create an instance\n",
    "    def __init__(self, x, y): # data that inits a Coordinate object\n",
    "        # self is parameter to refer to an instance of the class\n",
    "        self.x = x # look for data attribute x that belongs to this class (i.e. Coordinate)\n",
    "        self.y = y # look for data attribute y that belongs to this class"
   ]
  },
  {
   "cell_type": "code",
   "execution_count": null,
   "metadata": {
    "colab": {
     "base_uri": "https://localhost:8080/",
     "height": 52
    },
    "colab_type": "code",
    "id": "TVfoLq70NGRG",
    "outputId": "79d27e1b-4b05-45ea-fa86-f8f4e805dd9e"
   },
   "outputs": [
    {
     "name": "stdout",
     "output_type": "stream",
     "text": [
      "3\n",
      "0\n"
     ]
    }
   ],
   "source": [
    "# self is represented by c in this example\n",
    "c = Coordinate(3, 4) # create a new object of type Coordinate and pass in 3 & 4 to the __init__\n",
    "origin = Coordinate(0, 0)\n",
    "print(c.x)\n",
    "print(origin.x)"
   ]
  },
  {
   "cell_type": "markdown",
   "metadata": {
    "colab_type": "text",
    "id": "spLE9WouPiPo"
   },
   "source": [
    "- data attributes of an instance are call **instance variables**\n",
    "- **don't provide argument for `self`** --> Python does this automatically\n",
    "\n",
    "### _Define a Method for the `Coordinate` Class_"
   ]
  },
  {
   "cell_type": "code",
   "execution_count": null,
   "metadata": {
    "colab": {},
    "colab_type": "code",
    "id": "Atqc8kMNPajj"
   },
   "outputs": [],
   "source": [
    "class Coordinate(object):\n",
    "    def __init__(self, x, y): \n",
    "        self.x = x \n",
    "        self.y = y \n",
    "    def distance(self, other): # other represents another paramter to method\n",
    "        x_diff_sq = (self.x - other.x) ** 2 # dot notation to access data\n",
    "        y_diff_sq = (self.y - other.y) ** 2\n",
    "        return (x_diff_sq + y_diff_sq) ** 0.5"
   ]
  },
  {
   "cell_type": "markdown",
   "metadata": {
    "colab_type": "text",
    "id": "MRPJR1-YQu2s"
   },
   "source": [
    "- other than `self` and dot notation, methods behave just like functions\n",
    "    - take params\n",
    "    - do operations\n",
    "    - return\n",
    "- whose data attribute do you want to access?"
   ]
  },
  {
   "cell_type": "code",
   "execution_count": null,
   "metadata": {
    "colab": {
     "base_uri": "https://localhost:8080/",
     "height": 34
    },
    "colab_type": "code",
    "id": "SHl3dq5KQtb1",
    "outputId": "9a3be842-1924-410e-db30-caed63258a0a"
   },
   "outputs": [
    {
     "name": "stdout",
     "output_type": "stream",
     "text": [
      "5.0\n"
     ]
    }
   ],
   "source": [
    "c = Coordinate(3, 4)\n",
    "zero = Coordinate(0, 0)\n",
    "\n",
    "# call distance method on object c of class Coordinate\n",
    "print(c.distance(zero)) "
   ]
  },
  {
   "cell_type": "code",
   "execution_count": null,
   "metadata": {
    "colab": {
     "base_uri": "https://localhost:8080/",
     "height": 34
    },
    "colab_type": "code",
    "id": "Ek3-FzT8TMqE",
    "outputId": "44653578-827b-46dd-b24c-9b6a10bdfa9a"
   },
   "outputs": [
    {
     "name": "stdout",
     "output_type": "stream",
     "text": [
      "5.0\n"
     ]
    }
   ],
   "source": [
    "# this is equivalent to the above\n",
    "c = Coordinate(3, 4)\n",
    "zero = Coordinate(0, 0)\n",
    "\n",
    "# self is c and other is zero\n",
    "print(Coordinate.distance(c, zero))\n",
    "# however this convention is not as convenient as the above"
   ]
  },
  {
   "cell_type": "markdown",
   "metadata": {
    "colab_type": "text",
    "id": "4oUkuACuUBnm"
   },
   "source": [
    "### _Print representation of an object_"
   ]
  },
  {
   "cell_type": "code",
   "execution_count": null,
   "metadata": {
    "colab": {
     "base_uri": "https://localhost:8080/",
     "height": 34
    },
    "colab_type": "code",
    "id": "CXtuzK2TThTW",
    "outputId": "91d9d16f-a545-4ddf-ad41-e1151d68184a"
   },
   "outputs": [
    {
     "name": "stdout",
     "output_type": "stream",
     "text": [
      "<__main__.Coordinate object at 0x7f24efd09320>\n"
     ]
    }
   ],
   "source": [
    "c = Coordinate(3, 4)\n",
    "print(c)"
   ]
  },
  {
   "cell_type": "markdown",
   "metadata": {
    "colab_type": "text",
    "id": "Mr3a5Y5eUIpH"
   },
   "source": [
    "- uninformative print representation by default\n",
    "- define a `__str__` method for a class\n",
    "- Python calls `__str__` method when used with `print` on class object\n",
    "- you choose what it does"
   ]
  },
  {
   "cell_type": "code",
   "execution_count": null,
   "metadata": {
    "colab": {},
    "colab_type": "code",
    "id": "l-SDh_BoUH47"
   },
   "outputs": [],
   "source": [
    "class Coordinate(object):\n",
    "    def __init__(self, x, y): \n",
    "        self.x = x \n",
    "        self.y = y \n",
    "    def distance(self, other): \n",
    "        x_diff_sq = (self.x - other.x) ** 2 \n",
    "        y_diff_sq = (self.y - other.y) ** 2\n",
    "        return (x_diff_sq + y_diff_sq) ** 0.5\n",
    "    def __str__(self):\n",
    "        return f'<{self.x}, {self.y}>'"
   ]
  },
  {
   "cell_type": "code",
   "execution_count": null,
   "metadata": {
    "colab": {
     "base_uri": "https://localhost:8080/",
     "height": 34
    },
    "colab_type": "code",
    "id": "6R2YG8S9VDlu",
    "outputId": "9cf4cb82-887e-4e73-91b5-ddafc000242e"
   },
   "outputs": [
    {
     "name": "stdout",
     "output_type": "stream",
     "text": [
      "<3, 4>\n"
     ]
    }
   ],
   "source": [
    "c = Coordinate(3, 4)\n",
    "print(c)"
   ]
  },
  {
   "cell_type": "code",
   "execution_count": null,
   "metadata": {
    "colab": {
     "base_uri": "https://localhost:8080/",
     "height": 105
    },
    "colab_type": "code",
    "id": "nhOweP2qVE5K",
    "outputId": "ec442413-3d42-45f7-cfba-8469d4156c0b"
   },
   "outputs": [
    {
     "name": "stdout",
     "output_type": "stream",
     "text": [
      "<3, 4>\n",
      "<class '__main__.Coordinate'>\n",
      "<class '__main__.Coordinate'>\n",
      "<class 'type'>\n",
      "True\n"
     ]
    }
   ],
   "source": [
    "print(c) # return of the __str__ method\n",
    "print(type(c)) # type of object c is a class Coordinate\n",
    "print(Coordinate) # a Coordinate is a class\n",
    "print(type(Coordinate))\n",
    "print(isinstance(c, Coordinate)) # to check if an object c is type Coordinate"
   ]
  },
  {
   "cell_type": "markdown",
   "metadata": {
    "colab_type": "text",
    "id": "C5GZXug8Xguw"
   },
   "source": [
    "### _Special operators_\n",
    "\n",
    "- define them with double underscores before/after\n",
    "\n",
    "```\n",
    "__add__(self, other) --> self + other\n",
    "__sub__(self, other) --> self - other\n",
    "__eq__(self, other) --> self == other\n",
    "__lt__(self, other) --> self < other\n",
    "__len__(self) --> len(self)\n",
    "__str__(self) --> print self\n",
    "```\n",
    "  "
   ]
  },
  {
   "cell_type": "code",
   "execution_count": null,
   "metadata": {
    "colab": {},
    "colab_type": "code",
    "id": "qhLQYDKYW3DA"
   },
   "outputs": [],
   "source": [
    "class Fraction(object):\n",
    "    '''\n",
    "    A number represented as a fraction\n",
    "    '''\n",
    "    def __init__(self, num, denom):\n",
    "        # num and denom are integers\n",
    "        assert type(num) == int and type(denom) == int\n",
    "        self.num = num\n",
    "        self.denom = denom\n",
    "    def __str__(self):\n",
    "        # returns a string representation\n",
    "        return f'{self.num}/{self.denom}'\n",
    "    def __add__(self, other):\n",
    "        # returns new fraction\n",
    "        top = self.num * other.denom + self.denom * other.num\n",
    "        bott = self.denom * other.denom\n",
    "        return Fraction(top, bott)\n",
    "    def __sub__(self, other):\n",
    "        # returns a new fraction representing the subtraction\n",
    "        top = self.num * other.denom - self.denom * other.num\n",
    "        bott = self.denom * other.denom\n",
    "        return Fraction(top, bott)\n",
    "    def __float__(self):\n",
    "        # returns a float value of the fraction\n",
    "        return self.num/self.denom\n",
    "    def inverse(self):\n",
    "        # returns a new fraction representing 1/self\n",
    "        return Fraction(self.denom, self.num)"
   ]
  },
  {
   "cell_type": "code",
   "execution_count": null,
   "metadata": {
    "colab": {
     "base_uri": "https://localhost:8080/",
     "height": 34
    },
    "colab_type": "code",
    "id": "h1ZEOSGTZtw-",
    "outputId": "b4194113-de02-4077-c479-63e8d97f5dfd"
   },
   "outputs": [
    {
     "name": "stdout",
     "output_type": "stream",
     "text": [
      "16/16\n"
     ]
    }
   ],
   "source": [
    "a = Fraction(1, 4)\n",
    "b = Fraction(3, 4)\n",
    "c = a + b\n",
    "print(c)"
   ]
  },
  {
   "cell_type": "code",
   "execution_count": null,
   "metadata": {
    "colab": {
     "base_uri": "https://localhost:8080/",
     "height": 70
    },
    "colab_type": "code",
    "id": "7Wbkf8U2bR_d",
    "outputId": "68a290aa-baa8-4c75-b14f-5bee1542afb6"
   },
   "outputs": [
    {
     "name": "stdout",
     "output_type": "stream",
     "text": [
      "1.0\n",
      "1.0\n",
      "1.3333333333333333\n"
     ]
    }
   ],
   "source": [
    "print(float(c))\n",
    "print(Fraction.__float__(c))\n",
    "print(float(b.inverse()))"
   ]
  },
  {
   "cell_type": "code",
   "execution_count": null,
   "metadata": {
    "colab": {},
    "colab_type": "code",
    "id": "xNCIerP5blrS"
   },
   "outputs": [],
   "source": [
    "class Car(object):\n",
    "    def __init__(self, w, d):\n",
    "        self.wheels = w\n",
    "        self.doors = d\n",
    "        self.color = \"\""
   ]
  },
  {
   "cell_type": "code",
   "execution_count": null,
   "metadata": {
    "colab": {},
    "colab_type": "code",
    "id": "lYdcoUr9cVoV"
   },
   "outputs": [],
   "source": [
    "# creates a Car object with 4 wheels and 2 doors\n",
    "c = Car(4, 2)"
   ]
  },
  {
   "cell_type": "code",
   "execution_count": null,
   "metadata": {
    "colab": {},
    "colab_type": "code",
    "id": "v5maQcNocb3r"
   },
   "outputs": [],
   "source": [
    "# define a method to change the color of the Car\n",
    "class Car(object):\n",
    "    def __init__(self, w, d):\n",
    "        self.wheels = w\n",
    "        self.doors = d\n",
    "        self.color = \"\"\n",
    "    def __str__(self):\n",
    "        return f'wheels: {self.wheels}, doors: {self.doors}, color: {self.color}'\n",
    "    def paint(self, c):\n",
    "        self.color = c"
   ]
  },
  {
   "cell_type": "code",
   "execution_count": null,
   "metadata": {
    "colab": {
     "base_uri": "https://localhost:8080/",
     "height": 34
    },
    "colab_type": "code",
    "id": "HzsjeKlIdVt7",
    "outputId": "b2007b5f-6d7e-43be-e280-beb0b4b5840d"
   },
   "outputs": [
    {
     "name": "stdout",
     "output_type": "stream",
     "text": [
      "wheels: 4, doors: 2, color: \n"
     ]
    }
   ],
   "source": [
    "c = Car(4, 2)\n",
    "print(c)"
   ]
  },
  {
   "cell_type": "code",
   "execution_count": null,
   "metadata": {
    "colab": {},
    "colab_type": "code",
    "id": "j1m3cLtLdYqy"
   },
   "outputs": [],
   "source": [
    "c.paint('red')"
   ]
  },
  {
   "cell_type": "code",
   "execution_count": null,
   "metadata": {
    "colab": {
     "base_uri": "https://localhost:8080/",
     "height": 34
    },
    "colab_type": "code",
    "id": "rKeZcULSdaRs",
    "outputId": "c6651e7c-c1de-4d02-88a7-eb6967b1848d"
   },
   "outputs": [
    {
     "name": "stdout",
     "output_type": "stream",
     "text": [
      "wheels: 4, doors: 2, color: red\n"
     ]
    }
   ],
   "source": [
    "print(c)"
   ]
  },
  {
   "cell_type": "code",
   "execution_count": null,
   "metadata": {
    "colab": {},
    "colab_type": "code",
    "id": "UpSKQegeemrM"
   },
   "outputs": [],
   "source": [
    "# define a method to change the color of the Car\n",
    "class Car(object):\n",
    "    def __init__(self, w, d):\n",
    "        self.wheels = w\n",
    "        self.doors = d\n",
    "        self.color = \"\"\n",
    "    def __str__(self):\n",
    "        return f'wheels: {self.wheels}, doors: {self.doors}, color: {self.color}'\n",
    "    def paint(self, c):\n",
    "        self.color = c\n",
    "    def __eq__(self, other):\n",
    "        if self.wheels == other.wheels and\\\n",
    "        self.doors == other.doors and\\\n",
    "        self.color == other.color:\n",
    "            return True\n",
    "        else:\n",
    "            return False"
   ]
  },
  {
   "cell_type": "code",
   "execution_count": null,
   "metadata": {
    "colab": {
     "base_uri": "https://localhost:8080/",
     "height": 34
    },
    "colab_type": "code",
    "id": "BqZVpKRvfI2w",
    "outputId": "a518be45-df5b-4557-dc93-caed727b128e"
   },
   "outputs": [
    {
     "name": "stdout",
     "output_type": "stream",
     "text": [
      "False\n"
     ]
    }
   ],
   "source": [
    "mycar = Car(4, 2)\n",
    "mycar.paint('red')\n",
    "yourcar = Car(4, 2)\n",
    "print(mycar == yourcar)"
   ]
  }
 ],
 "metadata": {
  "colab": {
   "collapsed_sections": [],
   "name": "copy-8-object-oriented-programming.ipynb",
   "provenance": []
  },
  "kernelspec": {
   "display_name": "Python 3",
   "language": "python",
   "name": "python3"
  },
  "language_info": {
   "codemirror_mode": {
    "name": "ipython",
    "version": 3
   },
   "file_extension": ".py",
   "mimetype": "text/x-python",
   "name": "python",
   "nbconvert_exporter": "python",
   "pygments_lexer": "ipython3",
   "version": "3.6.10"
  }
 },
 "nbformat": 4,
 "nbformat_minor": 4
}
