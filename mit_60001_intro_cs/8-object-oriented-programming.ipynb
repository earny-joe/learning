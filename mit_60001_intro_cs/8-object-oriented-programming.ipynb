{
 "cells": [
  {
   "cell_type": "markdown",
   "metadata": {},
   "source": [
    "# _8. Object Oriented Programming_\n",
    "\n",
    "Notebook follows along with the [eigth video](https://www.youtube.com/watch?v=-DP1i2ZU9gk&list=PLUl4u3cNGP63WbdFxL8giv4yhgdMGaZNA&index=27) in MIT's 6.0001 Introduction to Computer Science and Programming in Python, Fall 2016.\n",
    "\n",
    "### _Objects_\n",
    "\n",
    "- Python supports many different kinds of data\n",
    "\n",
    "```\n",
    "1234    3.14159     'Hello'    [1, 5, 7, 11, 13]\n",
    "{'CA': 'California', 'MA': 'Massachusetts'}\n",
    "```\n",
    "\n",
    "- each is an **object** and every object has a:\n",
    "    - _type_\n",
    "    - an internal _data representation_ (primitive or composite)\n",
    "    - a set of procedures for _interaction_ with the object\n",
    "- an object is an **instance** of a type\n",
    "    - `1234` is an instance of `int`\n",
    "    - `'hello'` is an instance of a string\n",
    "    \n",
    "\n",
    "### _Object Oriented Programming_\n",
    "\n",
    "- **everything in Python is an object (and has a type)**\n",
    "- can **create new objects** of some type\n",
    "- can **manipulate objects**\n",
    "- can **destroy objects**\n",
    "    - explicitly using `del` or just 'forget' about them\n",
    "    - python system will reclaim destroyed or inaccessible objects - called '_garbage collection_'\n",
    "    \n",
    "    \n",
    "### _What are objects?_\n",
    "\n",
    "- objects are a _data abstraction_ that captures:\n",
    "    - (1) an _internal representation_ through data attributes\n",
    "    - (2) an _interface_ for interacting with object\n",
    "        - through methods (aka procedures/functions)\n",
    "        - defines behaviors but hides implementation\n",
    "\n",
    "\n",
    "### _Example: [1,2,3,4] has type list_\n",
    "\n",
    "- how are lists represented internally? --> _linked list of cells_\n",
    "- how to manipulate lists?\n",
    "    - `L[i], L[i:j], +`\n",
    "    - `len(), min(), max(), del(L[i])`\n",
    "    - `L.append(), L.extend(), L.count(), L.index()`\n",
    "    - `L.insert(), L.pop(), L.remove(), L.reverse(), L.sort()`\n",
    "- internal representation should be private\n",
    "- correct behavior may be compromised if you manipulate internal representation directly"
   ]
  },
  {
   "cell_type": "code",
   "execution_count": null,
   "metadata": {},
   "outputs": [],
   "source": []
  }
 ],
 "metadata": {
  "kernelspec": {
   "display_name": "Python 3",
   "language": "python",
   "name": "python3"
  },
  "language_info": {
   "codemirror_mode": {
    "name": "ipython",
    "version": 3
   },
   "file_extension": ".py",
   "mimetype": "text/x-python",
   "name": "python",
   "nbconvert_exporter": "python",
   "pygments_lexer": "ipython3",
   "version": "3.6.10"
  }
 },
 "nbformat": 4,
 "nbformat_minor": 4
}
