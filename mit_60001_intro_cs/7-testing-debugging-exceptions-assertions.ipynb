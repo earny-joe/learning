{
 "cells": [
  {
   "cell_type": "markdown",
   "metadata": {},
   "source": [
    "# _7. Testing, Debugging, Exceptions, and Assertions_\n",
    "\n",
    "Notebook follows along with the [seventh video](https://www.youtube.com/watch?v=9H6muyZjms0&t=1s) in MIT's 6.0001 Introduction to Computer Science and Programming in Python, Fall 2016.\n",
    "\n",
    "### _Classes of Tests_\n",
    "\n",
    "- Unit Testing\n",
    "    - validate each piece of program\n",
    "    - testing each function separately\n",
    "- Regression testing\n",
    "    - add test for bugs as you find them\n",
    "    - catch reintroduced errors that were previously fixed\n",
    "- Integration testing\n",
    "    - does overall program work?\n",
    "    - tend to rush to do this\n",
    "    \n",
    "### _Testing Approaches_\n",
    "\n",
    "- **intuition** about natural boundaries to the problem\n",
    "\n",
    "```\n",
    "def is_bigger(x, y):\n",
    "    ''' Assumes x and y are ints\n",
    "    Returns True if y is less than x, else False '''\n",
    "```\n",
    "\n",
    "- can you come up with some natural partitions?\n",
    "- if no natural partitions, might do **random testing**\n",
    "    - probability that code is correct increases with more tests\n",
    "    - better options below\n",
    "- **black box testing**\n",
    "    - explore paths through specification\n",
    "- **glass box testing**\n",
    "    - explore paths through code\n",
    " \n",
    "### _Glass Box Testing_\n",
    "\n",
    "- **use code** directly to guide design of test cases\n",
    "- called **path-complete** if every potential path through code is tested at least once\n",
    "- what are some **drawbacks** of this type of testing?\n",
    "    - can go through loops arbitrarily many times\n",
    "    - missing paths\n",
    "- guidelines\n",
    "    - branches --> exercise all parts of a conditional\n",
    "    - for loops --> loop not entered, body of loop executed exactly once, body of loop executed more than once\n",
    "    - while loops --> same as for loops, cases that catch all ways to exit loop\n",
    "    \n",
    "```\n",
    "def abs(x):\n",
    "    ''' Assumes x is an int\n",
    "    Returns x if x>=0 and -x otherwise '''\n",
    "    if x < -1:\n",
    "        return -x\n",
    "    else:\n",
    "        return x\n",
    "```\n",
    "- a path-complete test suite could miss a bug\n",
    "- path-complete test suite: 2 and -2\n",
    "- but `abs(-1)` incorrectly returns -1\n",
    "- should still test boundary cases\n",
    "- `print()` statements are useful to testing hypothesis\n",
    "    - can use bisection method to narrow down where bug is\n",
    "    \n",
    "### _Debugging Steps_\n",
    "\n",
    "- study program code\n",
    "    - don't ask what is wrong\n",
    "    - **ask how did I get the unexpected result?**\n",
    "    - is it part of a family?\n",
    "- **scientific method**\n",
    "    - study available data\n",
    "    - form hypothesis\n",
    "    - repeatable experiments\n",
    "    - _Pick simplest input to test with_\n",
    "\n",
    "\n",
    "### _Error Messages - Easy_\n",
    "\n",
    "- trying to access beyond the limits of a list\n",
    "    - ```test = [1, 2, 3]``` then ```test[4]``` --> `IndexError`\n",
    "- trying to convert an inappropriate type\n",
    "    - ```int(test)``` --> `TypeError`\n",
    "- referencing a non-existent variable\n",
    "    - `a` --> `NameError`\n",
    "- mixing data types without appropriate coercion\n",
    "    - `'3'/4` --> `TypeError`\n",
    "- forgetting to close parenthesis, quotation, etc.\n",
    "    - ```\n",
    "    a = len([1,2,3]\n",
    "    print(a)\n",
    "    ``` --> `SyntaxError`\n",
    "    \n",
    "### _Logic Errors - Hard_\n",
    "\n",
    "- think before writing new code\n",
    "- draw pictures, take a break\n",
    "- explain the code to \n",
    "    - someone else or a rubber ducky\n",
    "    \n",
    "### _Don't_\n",
    "- Write entire program --> test entire program --> debug entire program\n",
    "- change code\n",
    "\n",
    "### _Do_\n",
    "- write a function --> test the function, debug the function --> write a function --> test the function, debug the function --> **do integration testing**\n",
    "- backup code --> change code --> write down potential bug in a comment --> test code --> compare new version with old version\n",
    "\n",
    "### _Other Types of Exceptions_\n",
    "- already seen common error types:\n",
    "    - `SyntaxError` --> Python can't parse program\n",
    "    - `NameError` --> local or global name not found\n",
    "    - `AttributeError` --> attribute reference fails\n",
    "    - `TypeError` --> operand doesn't have correct type\n",
    "    - `ValueError` --> operand type okay but value is illegal\n",
    "    - `IOError` --> IO system reports malfunction (e.g. file not found)\n",
    "    \n",
    "### _Dealing With Exceptions_\n",
    "\n",
    "- Python code can provide **handlers** for exceptions\n",
    "\n",
    "```\n",
    "try:\n",
    "    a = int(input('Tell me one number:'))\n",
    "    b = int(input('Tell me another number:'))\n",
    "    print(a/b)\n",
    "except:\n",
    "    print('Bug in user input.')\n",
    "```\n",
    "\n",
    "- exceptions raised by any statement in body of try are handled by the `except` statement\n",
    "    - execution continue with the body of the `except` statement\n",
    "    \n",
    "### _Handling Specific Exceptions_\n",
    "\n",
    "- have separate `except` clauses to deal with a particular type of exception"
   ]
  },
  {
   "cell_type": "code",
   "execution_count": 2,
   "metadata": {},
   "outputs": [
    {
     "name": "stdin",
     "output_type": "stream",
     "text": [
      "tell me one number: 1\n",
      "Tell me another number: 0\n"
     ]
    },
    {
     "name": "stdout",
     "output_type": "stream",
     "text": [
      "Can't divide by zero.\n"
     ]
    }
   ],
   "source": [
    "try:\n",
    "    a = int(input('tell me one number:'))\n",
    "    b = int(input('Tell me another number:'))\n",
    "    print(f'a/b = {a/b}')\n",
    "    print(f'a+b = {a+b}')\n",
    "except ValueError:\n",
    "    print('Could not convert to a number.')\n",
    "except ZeroDivisionError:\n",
    "    print('Can\\'t divide by zero.')\n",
    "except:\n",
    "    print('Something went wrong.')"
   ]
  },
  {
   "cell_type": "markdown",
   "metadata": {},
   "source": [
    "### _Other Exceptions_\n",
    "\n",
    "- `else:`\n",
    "    - body of this is executed when execution of associated `try` body completes with no exceptions\n",
    "- `finally:`\n",
    "    - body of this is **always executed** after `try`, `else` and `except` clauses\n",
    "        - even if they raised another error or executed a `break`, `continue` or `return`\n",
    "    - useful for clean-up code that should be run no matter what else happened (e.g. close a file\n",
    "    \n",
    "### _What to Do With Exceptions?_\n",
    "\n",
    "- what to do when encounter an error?\n",
    "- **fail silently**\n",
    "    - substitute default values or just continue\n",
    "    - bad idea! user gets no warning\n",
    "- **returns an \"error\" value**\n",
    "    - what value to choose?\n",
    "    - complicates code having to check for a special value\n",
    "- stop execution, **signal error** condition\n",
    "    - in Python: **raise an exception**\n",
    "    - `raise Exception('descriptive string')`"
   ]
  },
  {
   "cell_type": "code",
   "execution_count": 4,
   "metadata": {},
   "outputs": [],
   "source": [
    "# example: raising an exception\n",
    "def get_ratios(l1, l2):\n",
    "    '''\n",
    "    Assume l1 and l2 are lists of equal length of numbers\n",
    "    Returns a list containing l1[i]/l2[i]\n",
    "    '''\n",
    "    ratios = []\n",
    "    for index in range(len(l1)):\n",
    "        try:\n",
    "            ratios.append(l1[index]/l2[index])\n",
    "        except ZeroDivisionError:\n",
    "            ratios.append(float('nan'))\n",
    "        except:\n",
    "            raise ValueError('get_ratios called with bad argument')\n",
    "    return ratios"
   ]
  },
  {
   "cell_type": "code",
   "execution_count": 14,
   "metadata": {},
   "outputs": [
    {
     "name": "stdout",
     "output_type": "stream",
     "text": [
      "Nothing wrong:\t[0.25, 0.4, 0.5]\n",
      "One of values is a 0:\t[nan, 0.4, 0.5]\n"
     ]
    },
    {
     "ename": "ValueError",
     "evalue": "get_ratios called with bad argument",
     "output_type": "error",
     "traceback": [
      "\u001b[0;31m---------------------------------------------------------------------------\u001b[0m",
      "\u001b[0;31mIndexError\u001b[0m                                Traceback (most recent call last)",
      "\u001b[0;32m<ipython-input-4-21e7a63654a3>\u001b[0m in \u001b[0;36mget_ratios\u001b[0;34m(l1, l2)\u001b[0m\n\u001b[1;32m      9\u001b[0m         \u001b[0;32mtry\u001b[0m\u001b[0;34m:\u001b[0m\u001b[0;34m\u001b[0m\u001b[0;34m\u001b[0m\u001b[0m\n\u001b[0;32m---> 10\u001b[0;31m             \u001b[0mratios\u001b[0m\u001b[0;34m.\u001b[0m\u001b[0mappend\u001b[0m\u001b[0;34m(\u001b[0m\u001b[0ml1\u001b[0m\u001b[0;34m[\u001b[0m\u001b[0mindex\u001b[0m\u001b[0;34m]\u001b[0m\u001b[0;34m/\u001b[0m\u001b[0ml2\u001b[0m\u001b[0;34m[\u001b[0m\u001b[0mindex\u001b[0m\u001b[0;34m]\u001b[0m\u001b[0;34m)\u001b[0m\u001b[0;34m\u001b[0m\u001b[0;34m\u001b[0m\u001b[0m\n\u001b[0m\u001b[1;32m     11\u001b[0m         \u001b[0;32mexcept\u001b[0m \u001b[0mZeroDivisionError\u001b[0m\u001b[0;34m:\u001b[0m\u001b[0;34m\u001b[0m\u001b[0;34m\u001b[0m\u001b[0m\n",
      "\u001b[0;31mIndexError\u001b[0m: list index out of range",
      "\nDuring handling of the above exception, another exception occurred:\n",
      "\u001b[0;31mValueError\u001b[0m                                Traceback (most recent call last)",
      "\u001b[0;32m<ipython-input-14-95b2c32d9dd3>\u001b[0m in \u001b[0;36m<module>\u001b[0;34m\u001b[0m\n\u001b[1;32m      7\u001b[0m \u001b[0ml1\u001b[0m \u001b[0;34m=\u001b[0m \u001b[0;34m[\u001b[0m\u001b[0;36m1\u001b[0m\u001b[0;34m,\u001b[0m \u001b[0;36m2\u001b[0m\u001b[0;34m,\u001b[0m \u001b[0;36m3\u001b[0m\u001b[0;34m,\u001b[0m \u001b[0;36m4\u001b[0m\u001b[0;34m]\u001b[0m\u001b[0;34m\u001b[0m\u001b[0;34m\u001b[0m\u001b[0m\n\u001b[1;32m      8\u001b[0m \u001b[0ml2\u001b[0m \u001b[0;34m=\u001b[0m \u001b[0;34m[\u001b[0m\u001b[0;36m4\u001b[0m\u001b[0;34m,\u001b[0m \u001b[0;36m5\u001b[0m\u001b[0;34m,\u001b[0m \u001b[0;36m6\u001b[0m\u001b[0;34m]\u001b[0m\u001b[0;34m\u001b[0m\u001b[0;34m\u001b[0m\u001b[0m\n\u001b[0;32m----> 9\u001b[0;31m \u001b[0mprint\u001b[0m\u001b[0;34m(\u001b[0m\u001b[0;34mf'l2 is longer than l1:\\t{get_ratios(l1, l2)}'\u001b[0m\u001b[0;34m)\u001b[0m\u001b[0;34m\u001b[0m\u001b[0;34m\u001b[0m\u001b[0m\n\u001b[0m",
      "\u001b[0;32m<ipython-input-4-21e7a63654a3>\u001b[0m in \u001b[0;36mget_ratios\u001b[0;34m(l1, l2)\u001b[0m\n\u001b[1;32m     12\u001b[0m             \u001b[0mratios\u001b[0m\u001b[0;34m.\u001b[0m\u001b[0mappend\u001b[0m\u001b[0;34m(\u001b[0m\u001b[0mfloat\u001b[0m\u001b[0;34m(\u001b[0m\u001b[0;34m'nan'\u001b[0m\u001b[0;34m)\u001b[0m\u001b[0;34m)\u001b[0m\u001b[0;34m\u001b[0m\u001b[0;34m\u001b[0m\u001b[0m\n\u001b[1;32m     13\u001b[0m         \u001b[0;32mexcept\u001b[0m\u001b[0;34m:\u001b[0m\u001b[0;34m\u001b[0m\u001b[0;34m\u001b[0m\u001b[0m\n\u001b[0;32m---> 14\u001b[0;31m             \u001b[0;32mraise\u001b[0m \u001b[0mValueError\u001b[0m\u001b[0;34m(\u001b[0m\u001b[0;34m'get_ratios called with bad argument'\u001b[0m\u001b[0;34m)\u001b[0m\u001b[0;34m\u001b[0m\u001b[0;34m\u001b[0m\u001b[0m\n\u001b[0m\u001b[1;32m     15\u001b[0m     \u001b[0;32mreturn\u001b[0m \u001b[0mratios\u001b[0m\u001b[0;34m\u001b[0m\u001b[0;34m\u001b[0m\u001b[0m\n",
      "\u001b[0;31mValueError\u001b[0m: get_ratios called with bad argument"
     ]
    }
   ],
   "source": [
    "l1 = [1, 2, 3]\n",
    "l2 = [4, 5, 6]\n",
    "print(f'Nothing wrong:\\t{get_ratios(l1, l2)}')\n",
    "l1 = [1, 2, 3]\n",
    "l2 = [0, 5, 6]\n",
    "print(f'One of values is a 0:\\t{get_ratios(l1, l2)}')\n",
    "l1 = [1, 2, 3, 4]\n",
    "l2 = [4, 5, 6]\n",
    "print(f'l2 is longer than l1:\\t{get_ratios(l1, l2)}')"
   ]
  },
  {
   "cell_type": "markdown",
   "metadata": {},
   "source": [
    "### _Example of Exceptions_\n",
    "\n",
    "- assume we are given a class list for a subject\n",
    "    - each entry is a list of two parts\n",
    "        - a list of first and last name for a student\n",
    "        - a list of grades on assignments"
   ]
  },
  {
   "cell_type": "code",
   "execution_count": 15,
   "metadata": {},
   "outputs": [],
   "source": [
    "test_grades = [[['peter', 'parker'], [80.0, 70.0, 85.0]],\n",
    "               [['bruce', 'wayne'], [100.0, 80.0, 74.0]]]"
   ]
  },
  {
   "cell_type": "markdown",
   "metadata": {},
   "source": [
    "- create a new class list with name, grades and an average\n",
    "\n",
    "### _Example Code_"
   ]
  },
  {
   "cell_type": "code",
   "execution_count": 26,
   "metadata": {},
   "outputs": [],
   "source": [
    "def get_stats(class_list):\n",
    "    new_stats = []\n",
    "    for elt in class_list:\n",
    "        new_stats.append([elt[0], elt[1], avg(elt[1])])\n",
    "    return new_stats\n",
    "\n",
    "def avg(grades):\n",
    "    return sum(grades)/len(grades)"
   ]
  },
  {
   "cell_type": "markdown",
   "metadata": {},
   "source": [
    "### _Error if no grade for a student_\n",
    "\n",
    "- if one or more students don't have any grades --> get an error\n",
    "- could also get `ZeroDivisionError: float division by zero`\n",
    "    - because try to `return sum(grades)/len(grades)`"
   ]
  },
  {
   "cell_type": "code",
   "execution_count": 27,
   "metadata": {},
   "outputs": [],
   "source": [
    "test_grades = [[['peter', 'parker'], [80.0, 70.0, 85.0]],\n",
    "               [['bruce', 'wayne'], [100.0, 80.0, 74.0]],\n",
    "               [['captain', 'america'], [8.0, 10.0, 96.0]],\n",
    "               [['deadpool'], []]]"
   ]
  },
  {
   "cell_type": "markdown",
   "metadata": {},
   "source": [
    "### _Option 1: Flag the Error by Printing a Message_\n",
    "\n",
    "- decide to **notify** that something went wrong with a msg"
   ]
  },
  {
   "cell_type": "code",
   "execution_count": 30,
   "metadata": {},
   "outputs": [
    {
     "name": "stdout",
     "output_type": "stream",
     "text": [
      "warning: no grades data\n"
     ]
    },
    {
     "data": {
      "text/plain": [
       "[[['peter', 'parker'], [80.0, 70.0, 85.0], 78.33333333333333],\n",
       " [['bruce', 'wayne'], [100.0, 80.0, 74.0], 84.66666666666667],\n",
       " [['captain', 'america'], [8.0, 10.0, 96.0], 38.0],\n",
       " [['deadpool'], [], None]]"
      ]
     },
     "execution_count": 30,
     "metadata": {},
     "output_type": "execute_result"
    }
   ],
   "source": [
    "def avg(grades):\n",
    "    try:\n",
    "        return round(sum(grades)/len(grades), 4)\n",
    "    except ZeroDivisionError:\n",
    "        print('warning: no grades data')\n",
    "        \n",
    "get_stats(test_grades)"
   ]
  },
  {
   "cell_type": "markdown",
   "metadata": {},
   "source": [
    "### _Option 2: Change the Policy_\n",
    "\n",
    "- decide a student with no grades gets a zero"
   ]
  },
  {
   "cell_type": "code",
   "execution_count": 32,
   "metadata": {},
   "outputs": [
    {
     "name": "stdout",
     "output_type": "stream",
     "text": [
      "warning: no grades data\n"
     ]
    },
    {
     "data": {
      "text/plain": [
       "[[['peter', 'parker'], [80.0, 70.0, 85.0], 78.3333],\n",
       " [['bruce', 'wayne'], [100.0, 80.0, 74.0], 84.6667],\n",
       " [['captain', 'america'], [8.0, 10.0, 96.0], 38.0],\n",
       " [['deadpool'], [], 0.0]]"
      ]
     },
     "execution_count": 32,
     "metadata": {},
     "output_type": "execute_result"
    }
   ],
   "source": [
    "def avg(grades):\n",
    "    try:\n",
    "        return round(sum(grades)/len(grades), 4)\n",
    "    except ZeroDivisionError:\n",
    "        print('warning: no grades data')\n",
    "        return 0.0\n",
    "    \n",
    "get_stats(test_grades)"
   ]
  },
  {
   "cell_type": "markdown",
   "metadata": {},
   "source": [
    "### _Assertions_\n",
    "\n",
    "- with `avg` function from above"
   ]
  },
  {
   "cell_type": "code",
   "execution_count": 33,
   "metadata": {},
   "outputs": [],
   "source": [
    "def avg(grades):\n",
    "    assert not len(grades) == 0, 'no grades data'\n",
    "    return sum(grades)/len(grades)"
   ]
  },
  {
   "cell_type": "markdown",
   "metadata": {},
   "source": [
    "- raises an `AssertionError` if it is given an empty list for grades\n",
    "- otherwise runs ok\n",
    "- prevents program from propagating bad values\n",
    "\n",
    "### _Where to use assertions?_\n",
    "\n",
    "- goal is to spot bugs as soon as introduced and make clear where they happened\n",
    "- use as a **supplement** to testing\n",
    "- raise **exceptions** if users supplies **bas data input**\n",
    "- use **assertions** to\n",
    "    - check types of arguments or values\n",
    "    - check that invariants on data structures are met\n",
    "    - check constraints on return values\n",
    "    - check for violations of constraints on procedure (e.g. no duplicates in a list)\n",
    "    \n",
    "### _Black Box and Glass Box Testing_"
   ]
  },
  {
   "cell_type": "code",
   "execution_count": 34,
   "metadata": {},
   "outputs": [],
   "source": [
    "def is_even(n):\n",
    "    '''\n",
    "    Returns True if a number is even and False if not\n",
    "    '''\n",
    "    if n > 0 and n % 2 == 0:\n",
    "        return True\n",
    "    elif n < 0 and n % 2 == 0:\n",
    "        return True\n",
    "    else:\n",
    "        return False"
   ]
  },
  {
   "cell_type": "markdown",
   "metadata": {},
   "source": [
    "- With the above implementations is the test set \"n = 4 | n = -4 | n = 5\" path complete?\n",
    "    - Answer = \"Yes\"\n",
    "- With the above implementation, which value for n is incorrectly labeled by `is_even`?\n",
    "    - Answer = \"n is 0\"\n",
    "    \n",
    "### _Errors_"
   ]
  },
  {
   "cell_type": "code",
   "execution_count": 35,
   "metadata": {},
   "outputs": [
    {
     "ename": "TypeError",
     "evalue": "object of type 'int' has no len()",
     "output_type": "error",
     "traceback": [
      "\u001b[0;31m---------------------------------------------------------------------------\u001b[0m",
      "\u001b[0;31mTypeError\u001b[0m                                 Traceback (most recent call last)",
      "\u001b[0;32m<ipython-input-35-da32d44f7662>\u001b[0m in \u001b[0;36m<module>\u001b[0;34m\u001b[0m\n\u001b[1;32m      1\u001b[0m \u001b[0ml\u001b[0m \u001b[0;34m=\u001b[0m \u001b[0;36m3\u001b[0m\u001b[0;34m\u001b[0m\u001b[0;34m\u001b[0m\u001b[0m\n\u001b[1;32m      2\u001b[0m \u001b[0;34m\u001b[0m\u001b[0m\n\u001b[0;32m----> 3\u001b[0;31m \u001b[0;32mfor\u001b[0m \u001b[0mi\u001b[0m \u001b[0;32min\u001b[0m \u001b[0mrange\u001b[0m\u001b[0;34m(\u001b[0m\u001b[0mlen\u001b[0m\u001b[0;34m(\u001b[0m\u001b[0ml\u001b[0m\u001b[0;34m)\u001b[0m\u001b[0;34m)\u001b[0m\u001b[0;34m:\u001b[0m\u001b[0;34m\u001b[0m\u001b[0;34m\u001b[0m\u001b[0m\n\u001b[0m\u001b[1;32m      4\u001b[0m     \u001b[0mprint\u001b[0m\u001b[0;34m(\u001b[0m\u001b[0mi\u001b[0m\u001b[0;34m)\u001b[0m\u001b[0;34m\u001b[0m\u001b[0;34m\u001b[0m\u001b[0m\n",
      "\u001b[0;31mTypeError\u001b[0m: object of type 'int' has no len()"
     ]
    }
   ],
   "source": [
    "l = 3\n",
    "\n",
    "for i in range(len(l)):\n",
    "    print(i)"
   ]
  },
  {
   "cell_type": "markdown",
   "metadata": {},
   "source": [
    "- Above is a piece of code and an error shown when running it. What is the problem?\n",
    "    - Answer: not allowed to call `len` on integer\n",
    "    \n",
    "### _Exceptions_"
   ]
  },
  {
   "cell_type": "code",
   "execution_count": 36,
   "metadata": {},
   "outputs": [
    {
     "name": "stdin",
     "output_type": "stream",
     "text": [
      "How old are you? twenty\n"
     ]
    },
    {
     "name": "stdout",
     "output_type": "stream",
     "text": [
      "Oops, must enter a number.\n"
     ]
    }
   ],
   "source": [
    "try:\n",
    "    n = int(input('How old are you?'))\n",
    "    percent = round(n*100/80, 1)\n",
    "    print(f'You\\'ve gone through {percent}% of your life!')\n",
    "except ValueError:\n",
    "    print('Oops, must enter a number.')\n",
    "except ZeroDivisionError:\n",
    "    print('Division by zero.')\n",
    "except:\n",
    "    print('Something went very wrong.')"
   ]
  },
  {
   "cell_type": "markdown",
   "metadata": {},
   "source": [
    "- if the user enters \"twenty\" what does the program do?\n",
    "    - Answer: prints 'Oops, must enter a number'\n",
    "- if user enters 0 what does the program do?\n",
    "    - Answer: prints \"You've gone through 0.0% of your life!\""
   ]
  }
 ],
 "metadata": {
  "kernelspec": {
   "display_name": "Python 3",
   "language": "python",
   "name": "python3"
  },
  "language_info": {
   "codemirror_mode": {
    "name": "ipython",
    "version": 3
   },
   "file_extension": ".py",
   "mimetype": "text/x-python",
   "name": "python",
   "nbconvert_exporter": "python",
   "pygments_lexer": "ipython3",
   "version": "3.7.6"
  }
 },
 "nbformat": 4,
 "nbformat_minor": 4
}
