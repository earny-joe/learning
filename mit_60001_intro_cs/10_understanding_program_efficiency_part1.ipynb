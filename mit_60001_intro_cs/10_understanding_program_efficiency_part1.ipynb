{
  "nbformat": 4,
  "nbformat_minor": 0,
  "metadata": {
    "colab": {
      "name": "10-understanding-program-efficiency-part1.ipynb",
      "provenance": [],
      "collapsed_sections": []
    },
    "kernelspec": {
      "name": "python3",
      "display_name": "Python 3"
    }
  },
  "cells": [
    {
      "cell_type": "markdown",
      "metadata": {
        "id": "TCVN1_atBGHv",
        "colab_type": "text"
      },
      "source": [
        "# _10. Understanding Program Efficiency, Part 1_\n",
        "\n",
        "Notebook follows along with the [tenth video](https://www.youtube.com/watch?v=o9nW0uBqvEo&t=6s) in MIT's 6.0001 Introduction to Computer Science and Programming in Python, Fall 2016.\n",
        "\n",
        "### _Want to Understand Efficiency of Programs_\n",
        "\n",
        "- how can we reason about an algorithm in order to predict the amount of time it will need to solve a problem of a particular size?\n",
        "- how can we related choices in algorithm design to the time efficiency of the resulting algorithm?\n",
        "    - are there fundamental limits on the amount of time we will need to solve a particular problem?\n",
        "- computers are fast and getting faster - so maybe efficient programs don't matter?\n",
        "    - but data sets can be very large (e.g., in 2014, Google served 30,000,000,000,000 pages, covering 100,000,000 GB - how long to search brute force?)\n",
        "    - thus, simple solutions may simply not scale with size in acceptable manner\n",
        "- how can we decide which option for program is most efficient?\n",
        "\n",
        "\n",
        "### _How To Evaluate Efficiency of Programs_\n",
        "\n",
        "- measure with a timer\n",
        "- count the operations\n",
        "- abstract notion of order of growth\n",
        "    - will argue that this is the most appropriate way of assessing the impact of choices of algorithm in solving a problem; and in measuring the inherent difficulty in solving a problem\n",
        "\n",
        "\n",
        "### _Timing a program_\n",
        "\n",
        "- use `time` module\n",
        "- recall that importaing means to bring in that class into your own file"
      ]
    },
    {
      "cell_type": "code",
      "metadata": {
        "id": "IuJyCkO1A3dn",
        "colab_type": "code",
        "colab": {
          "base_uri": "https://localhost:8080/",
          "height": 34
        },
        "outputId": "b139e385-7758-49bf-e342-8461de266deb"
      },
      "source": [
        "import time\n",
        "\n",
        "def c_to_f(c):\n",
        "    return c*9/5 + 32\n",
        "\n",
        "# start clock\n",
        "t0 = time.clock()\n",
        "# call function\n",
        "c_to_f(100000)\n",
        "# stop clock\n",
        "t1 = time.clock() - t0\n",
        "print(f't = {t1}')\n"
      ],
      "execution_count": 2,
      "outputs": [
        {
          "output_type": "stream",
          "text": [
            "t = 3.799999999998249e-05\n"
          ],
          "name": "stdout"
        }
      ]
    },
    {
      "cell_type": "markdown",
      "metadata": {
        "id": "nq55MnKpHXBy",
        "colab_type": "text"
      },
      "source": [
        "### _Timing Programs is Inconsistent_\n",
        "\n",
        "- GOAL: to evaluate different algorithms\n",
        "- running time varies between algorithms\n",
        "- running time varies between implementations\n",
        "- running time varies between computers\n",
        "- running time is not predictable based on small inputs\n",
        "- time varies for different inputs but cannot really express relationship between inputs and time\n",
        "\n",
        "### _Counting Operations_\n",
        "\n",
        "- assume these steps take **constant time**\n",
        "    - mathematical operations\n",
        "    - comparisons\n",
        "    - assignments\n",
        "    - accessing objects in memory\n",
        "- then count the number of oerpations executed as function of size of input\n"
      ]
    },
    {
      "cell_type": "code",
      "metadata": {
        "id": "NqgbO-wlHDa1",
        "colab_type": "code",
        "colab": {}
      },
      "source": [
        "def c_to_f(c):\n",
        "    return c*9.0/5 + 32 # 3 operations\n",
        "\n",
        "def mysum(x):\n",
        "    total = 0 # 1 operation\n",
        "    for i in range(x+1): # one operation, looping x times\n",
        "        total += 1 # two operations\n",
        "    return total\n",
        "\n",
        "# mysum --> 1 + 3x"
      ],
      "execution_count": 0,
      "outputs": []
    },
    {
      "cell_type": "markdown",
      "metadata": {
        "id": "rdEc26VfLa6Q",
        "colab_type": "text"
      },
      "source": [
        "### _Counting Operations is Better, But Still..._\n",
        "\n",
        "- GOAL: to evaluate algorithms\n",
        "- count depends on algorithm\n",
        "- count depends on implementations\n",
        "- count independent of computers\n",
        "- no clear definition of which operations to count\n",
        "- count varies for different inputs and can come up with a relationship between inputs and counts\n",
        "\n",
        "### _Different Inputs Change How the Program Runs_"
      ]
    },
    {
      "cell_type": "code",
      "metadata": {
        "id": "caIFNy88IdAr",
        "colab_type": "code",
        "colab": {}
      },
      "source": [
        "# a function that searched for an element in a list\n",
        "def search_for_elmt(L, e):\n",
        "    for i in L:\n",
        "        if i == e:\n",
        "            return True\n",
        "    return False"
      ],
      "execution_count": 0,
      "outputs": []
    },
    {
      "cell_type": "markdown",
      "metadata": {
        "id": "YrjyC3n1NUzW",
        "colab_type": "text"
      },
      "source": [
        "- at most, 3 steps within loop\n",
        "- `e` is not in list, will go through entire list before returning `False`\n",
        "\n",
        "### _Best, Average, Worst Cases_\n",
        "\n",
        "- suppose you are given a list `L` of some length `len(L`\n",
        "- best case: minimum running time over all possible inputs of a given size `len(L)`\n",
        "    - constant for `search_for_elmt`\n",
        "    - first element in any list\n",
        "- average case: average running time over all possible inputs of a given size `len(L)`\n",
        "    - practical measure\n",
        "- worst case: maximum running time over all possible inputs of a given size `len(L)`\n",
        "    - linear in length of list for `search_for_elmt`\n",
        "    - must search entire list and not find it\n",
        "\n",
        "### _Exact Steps vs O()_"
      ]
    },
    {
      "cell_type": "code",
      "metadata": {
        "id": "RU7H6bIaNI_b",
        "colab_type": "code",
        "colab": {}
      },
      "source": [
        "def fact_iter(n):\n",
        "    '''assumes n an int >= 0'''\n",
        "    answer = 1 # one operation\n",
        "    while n > 1: # test n\n",
        "        answer *= n # two operations\n",
        "        n -= 1 # two operations\n",
        "    return answer"
      ],
      "execution_count": 0,
      "outputs": []
    },
    {
      "cell_type": "markdown",
      "metadata": {
        "id": "EQvF7uvBPa6x",
        "colab_type": "text"
      },
      "source": [
        "- computes factorial\n",
        "- number of steps: `5n + 2`\n",
        "- worst case asumptotic complexity\n",
        "    - ignore additive constants\n",
        "    - ignore multiplicative constants\n",
        "\n",
        "### _Simplification Examples_\n",
        "\n",
        "- drop constants and multiplicative factors\n",
        "- focus on dominant terms\n",
        "- polynomial\n",
        "\n",
        "```\n",
        "O(n**2) : n**2 + 2n + 2\n",
        "O(n**2)  : n**2 + 100000n + 3**1000\n",
        "O(n)  : log(n) + n + 4\n",
        "O(n log n)  : 0.0001*n*log(n) + 300n\n",
        "O(3**n)  : 2*n**30 + 3**n\n",
        "```\n",
        "\n",
        "### _Types of Orders of Growth_\n",
        "\n",
        "- constant\n",
        "- linear\n",
        "- quadratic\n",
        "- logarithmic\n",
        "- n log n\n",
        "- exponential\n",
        "\n",
        "### _Analyzing Programs and their Complexity_\n",
        "\n",
        "- combine complexity classes\n",
        "    - analyze statements inside functions\n",
        "    - apply some rules, focus on dominant term\n",
        "- Law of Addition for `O()`:\n",
        "    - used with sequential statements\n",
        "    - `O(f(n)) + O(g(n))` is `O(f(n) + g(n))`"
      ]
    },
    {
      "cell_type": "code",
      "metadata": {
        "id": "J87f2xsmPZ7x",
        "colab_type": "code",
        "colab": {}
      },
      "source": [
        "# for example \n",
        "for i in range(n): # O(n)\n",
        "    print('a')\n",
        "for j in range(n * n): # O(n * n)\n",
        "    print('b')"
      ],
      "execution_count": 0,
      "outputs": []
    },
    {
      "cell_type": "markdown",
      "metadata": {
        "id": "xtZDgEKfSsy3",
        "colab_type": "text"
      },
      "source": [
        "- is `O(n) + O(n * n)` = `O(n + n**2)` = `O(n**2)`\n",
        "    - because the outer loop goes n times and the inner loop goes n times for every out loop iteration\n",
        "\n",
        "### _Complexity Classes_\n",
        "\n",
        "- `O(1)` denotes constant running time\n",
        "- `O(log n)` denotes logarithmic running time\n",
        "- `O(n)` denotes linear running time\n",
        "- `O(n log n)` denotes log-linear running time\n",
        "- `O(n**c)` denotes polynomial running time (c is a constant)\n",
        "- `O(c**n)` denotes exponential running time (c is a constant being raised to a power based on size of input)\n",
        "\n",
        "- be as high up the list as possible!\n",
        "\n",
        "### _Linear Search on Unsorted List_"
      ]
    },
    {
      "cell_type": "code",
      "metadata": {
        "id": "oUUbVRJ0S-zD",
        "colab_type": "code",
        "colab": {}
      },
      "source": [
        "def linear_search(L, e):\n",
        "    found = False\n",
        "    for i in range(len(L)):\n",
        "        if e == L[i]:\n",
        "            found = True # speed up a little with regards to average time but speed up doesn't impact worst case\n",
        "    return found\n",
        "\n",
        "# must look through all elements to decide it's not there"
      ],
      "execution_count": 0,
      "outputs": []
    },
    {
      "cell_type": "markdown",
      "metadata": {
        "id": "4kHPMmdRX3pk",
        "colab_type": "text"
      },
      "source": [
        "- `O(len(L)) for the loop * O(1) to test if e == L[i]`\n",
        "- `O(1 + 4n + 1) = O(4n + 2) = O(n)`\n",
        "\n",
        "### _Linear Search on Sorted List_"
      ]
    },
    {
      "cell_type": "code",
      "metadata": {
        "id": "fA90Px3mXHs5",
        "colab_type": "code",
        "colab": {}
      },
      "source": [
        "def search(L, e):\n",
        "    for i in range(len(L)):\n",
        "        if L[i] == e:\n",
        "            return True\n",
        "        if L[i] > e:\n",
        "            return False\n",
        "    return False"
      ],
      "execution_count": 0,
      "outputs": []
    },
    {
      "cell_type": "markdown",
      "metadata": {
        "id": "hc9qDU_bZBJ4",
        "colab_type": "text"
      },
      "source": [
        "- must only look until reach a number greater than e\n",
        "- `O(len(L)) for the loop * O(1) to test if e == L[i]`\n",
        "- overall complexity is **O(n) - where n is len(L)**\n",
        "- Note: order of growth is same, though run time may differ for two search methods\n",
        "\n",
        "### _Linear Complexity_\n",
        "\n",
        "- searching a list in sequence to see if an element is present\n",
        "- add characters of a string, assumed to be composed of decimal digits"
      ]
    },
    {
      "cell_type": "code",
      "metadata": {
        "id": "elR-_LgEY-pV",
        "colab_type": "code",
        "colab": {}
      },
      "source": [
        "def add_digits(s):\n",
        "    val = 0\n",
        "    for c in s:\n",
        "        val += int(c)\n",
        "    return val"
      ],
      "execution_count": 0,
      "outputs": []
    },
    {
      "cell_type": "markdown",
      "metadata": {
        "id": "yOYKqMLIZ-3t",
        "colab_type": "text"
      },
      "source": [
        "- complexity often depends on number of iterations"
      ]
    },
    {
      "cell_type": "code",
      "metadata": {
        "id": "J0CLXGlpZzme",
        "colab_type": "code",
        "colab": {}
      },
      "source": [
        "def fact_iter(n):\n",
        "    prod = 1\n",
        "    for i in range(1, n+1):\n",
        "        prod *= i\n",
        "    return prod"
      ],
      "execution_count": 0,
      "outputs": []
    },
    {
      "cell_type": "markdown",
      "metadata": {
        "id": "uz0tAjV8aISB",
        "colab_type": "text"
      },
      "source": [
        "- number of times around loop is n\n",
        "- number of operations inside loop is constant (in this case, 3 - set i, multiply, set prod)\n",
        "    - `O(1 + 3n + 1) = O(3n + 2) = O(n)`\n",
        "\n",
        "### _Quadratic Complexity_\n",
        "\n",
        "- determine if one list is a subset of second, i.e., every element of first, appears in second (assumes no duplicates)"
      ]
    },
    {
      "cell_type": "code",
      "metadata": {
        "id": "YPRtV-l1aHwL",
        "colab_type": "code",
        "colab": {}
      },
      "source": [
        "def is_subset(L1, L2):\n",
        "    for e1 in L1:\n",
        "        matched = False\n",
        "        for e2 in L2:\n",
        "            if e1 == e2:\n",
        "                matched = True\n",
        "                break\n",
        "        if not matched:\n",
        "            return False\n",
        "    return True"
      ],
      "execution_count": 0,
      "outputs": []
    },
    {
      "cell_type": "markdown",
      "metadata": {
        "id": "gZtSSA-jbGFx",
        "colab_type": "text"
      },
      "source": [
        "- outer loop executed `len(L1)` times\n",
        "- each iteration will execute inner loop up to `len(L2)` times, with constant number of operations"
      ]
    },
    {
      "cell_type": "code",
      "metadata": {
        "id": "KaJPmnxia1Yh",
        "colab_type": "code",
        "colab": {}
      },
      "source": [
        "# find intersection of two lists, return a list with each element appearing only once\n",
        "def intersect(L1, L2):\n",
        "    tmp = []\n",
        "    for e1 in L1:\n",
        "        for e2 in L2:\n",
        "            if e1 == e2:\n",
        "                tmp.append(e1)\n",
        "    res = []\n",
        "    for e in tmp:\n",
        "        if not(e in res):\n",
        "            res.append(e)\n",
        "    return res"
      ],
      "execution_count": 0,
      "outputs": []
    },
    {
      "cell_type": "markdown",
      "metadata": {
        "id": "tIr3Uo1kcBkb",
        "colab_type": "text"
      },
      "source": [
        "- first nested loop takes len(L1) * len(L2)\n",
        "- second loop takes at most len(L1)\n",
        "    - determining if element in list might take len(L1) steps\n",
        "- nested loop, usually going to have quadratic behavior"
      ]
    }
  ]
}