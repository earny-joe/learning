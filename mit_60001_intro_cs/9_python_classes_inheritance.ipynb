{
  "nbformat": 4,
  "nbformat_minor": 0,
  "metadata": {
    "colab": {
      "name": "9-python-classes-inheritance.ipynb",
      "provenance": [],
      "collapsed_sections": []
    },
    "kernelspec": {
      "name": "python3",
      "display_name": "Python 3"
    }
  },
  "cells": [
    {
      "cell_type": "markdown",
      "metadata": {
        "id": "o0P73t0kTGQ-",
        "colab_type": "text"
      },
      "source": [
        "# _9. Python Classes and Inheritance_\n",
        "\n",
        "Notebook follows along with the [ninth video](https://www.youtube.com/watch?v=FlGjISF3l78&list=PLUl4u3cNGP63WbdFxL8giv4yhgdMGaZNA&index=33) in MIT's 6.0001 Introduction to Computer Science and Programming in Python, Fall 2016.\n",
        "\n",
        "### _Implementing the Class versus Using the Class_\n",
        "\n",
        "- implementing a new object type with a class\n",
        "    - define the class\n",
        "    - define data attributes (WHAT IS the object)\n",
        "    - define methods (HOW TO use the object)\n",
        "- using the new object type in code\n",
        "    - create instances of the object type\n",
        "    - do operations with them\n",
        "\n",
        "### _Class definition of an object type versus Instance of a class_\n",
        "\n",
        "- class name is the type: `class Coordinate(object)`\n",
        "- class is defined generically\n",
        "    - use `self` to refer to some instance while defining the class --> `(self.x - self.y) ** 2`\n",
        "    - `self` is a parameter to methods in class definition\n",
        "- class defines data and methods common across all instances\n",
        "- instance is one specific object: `coord = Coordinate(1, 2)`\n",
        "- data attribute values vary between instances\n",
        "```\n",
        "c1 = Coordinate(1, 2)\n",
        "c2 = Coordinate(3, 4)\n",
        "```\n",
        "    - `c1` and `c2` have different data attribute values `c1.x` and `c2.x` because they are different objects\n",
        "- instances has the structure of the class\n",
        "\n",
        "### _How to define a class (recap)_\n",
        "\n"
      ]
    },
    {
      "cell_type": "code",
      "metadata": {
        "id": "E8-hpJBHSfdw",
        "colab_type": "code",
        "colab": {}
      },
      "source": [
        "# class definition, name and class parent\n",
        "class Animal(object):\n",
        "    def __init__(self, age): # special method to create an instance\n",
        "        self.age = age\n",
        "        self.name = None # is a data attribute "
      ],
      "execution_count": 0,
      "outputs": []
    },
    {
      "cell_type": "markdown",
      "metadata": {
        "id": "Oew42Pk3beid",
        "colab_type": "text"
      },
      "source": [
        "### _Getter and Setter Methods_"
      ]
    },
    {
      "cell_type": "code",
      "metadata": {
        "id": "hQ8RWiXAa_3i",
        "colab_type": "code",
        "colab": {}
      },
      "source": [
        "class Animal(object):\n",
        "    def __init__(self, age):\n",
        "        self.age = age\n",
        "        self.name = None\n",
        "    def get_age(self): # example of a getter\n",
        "        return self.age\n",
        "    def get_name(self):\n",
        "        return self.name\n",
        "    def set_age(self, newage): # example of a setter\n",
        "        self.age = newage\n",
        "    def set_name(self, newname=''):\n",
        "        self.name = newname\n",
        "    def __str__(self):\n",
        "        return f'animal: {str(self.name)}:{str(self.age)}'"
      ],
      "execution_count": 0,
      "outputs": []
    },
    {
      "cell_type": "markdown",
      "metadata": {
        "id": "F9n8ksUQcReQ",
        "colab_type": "text"
      },
      "source": [
        "- getters and setters should be used outside of class to access data attributes"
      ]
    },
    {
      "cell_type": "code",
      "metadata": {
        "id": "22SzzxJCbqgD",
        "colab_type": "code",
        "outputId": "128a72eb-3189-4afc-f6fe-ff01339c24de",
        "colab": {
          "base_uri": "https://localhost:8080/",
          "height": 52
        }
      },
      "source": [
        "# create instance of Animal object\n",
        "a = Animal(3)\n",
        "print(a.age) # not recommended to access data attributes directly\n",
        "print(a.get_age()) # instead should use this (information hiding, abstraction of data attributes)"
      ],
      "execution_count": 0,
      "outputs": [
        {
          "output_type": "stream",
          "text": [
            "3\n",
            "3\n"
          ],
          "name": "stdout"
        }
      ]
    },
    {
      "cell_type": "markdown",
      "metadata": {
        "id": "3leQAUXldBgM",
        "colab_type": "text"
      },
      "source": [
        "### _Information Hiding_\n",
        "\n",
        "- authoer of class definition may change data attribute variable names\n",
        "```\n",
        "class Animal(object):\n",
        "    def __init__(self, age):\n",
        "        self.years = age\n",
        "    def get_age(self):\n",
        "        return self.years\n",
        "```\n",
        "- if you are accessing data attributes outside the class and class definition changes --> may get errors\n",
        "- outside of class, use getters and setters instead\n",
        "    - use `get_age()` not `a.age`\n",
        "    - good style\n",
        "    - prevents bug\n",
        "    - easier to maintain code\n",
        "\n",
        "### _Python not great at information hiding_\n",
        "\n",
        "- allows you to access data from outside class definition\n",
        "```\n",
        "print(a.age)\n",
        "```\n",
        "- allows you to write to data from outside class definition\n",
        "```\n",
        "a.age = 'infinite'\n",
        "```\n",
        "- allows you to create data attributes for an instance from outside class definition\n",
        "```\n",
        "a.size = 'tiny'\n",
        "```\n",
        "- **not good style to do any of the above**\n",
        "\n",
        "### _Default arguments_\n",
        "\n",
        "- default arguments --> formal parameters used if no actual argument is given\n",
        "```\n",
        "def set_name(self, newname=''):\n",
        "    self.name = newname\n",
        "```\n",
        "- default argument used here\n",
        "```\n",
        "a = Animal(3)\n",
        "a.set_name()\n",
        "print(a.get_name())\n",
        "```\n",
        "- argument passed in is used here\n",
        "```\n",
        "a = Animal(3)\n",
        "a.set_name('fluffy')\n",
        "print(a.get_name())\n",
        "```\n",
        "\n",
        "### _Hierarchies_\n",
        "\n",
        "- **parent class** --> superclass\n",
        "- **child class** --> subclass\n",
        "    - inherits all data and behaviors of parent class\n",
        "    - add more info\n",
        "    - add more behavior\n",
        "    - override behavior\n",
        "\n",
        "### _Inheritance: Subclass_"
      ]
    },
    {
      "cell_type": "code",
      "metadata": {
        "id": "_vApFRmTcxoK",
        "colab_type": "code",
        "colab": {}
      },
      "source": [
        "class Cat(Animal): # inherits attributes of Animal\n",
        "    def speak(self):\n",
        "        print('meow')\n",
        "    def __str__(self):\n",
        "        return f'cat: {str(self.name)}:{str(self.age)}'"
      ],
      "execution_count": 0,
      "outputs": []
    },
    {
      "cell_type": "markdown",
      "metadata": {
        "id": "zTRmFfYoiEm_",
        "colab_type": "text"
      },
      "source": [
        "- add new functionality with `speak()`\n",
        "    - instance of type `Cat` can be called with new methods\n",
        "    - instance of type `Animal` throws error if called with `Cat`'s new method\n",
        "    - `__init__` is not missing, us using the `Animal` version\n",
        "- can have multiple levels of inheritance"
      ]
    },
    {
      "cell_type": "code",
      "metadata": {
        "id": "EBbuZ5KoiDWf",
        "colab_type": "code",
        "colab": {}
      },
      "source": [
        "class Person(Animal): # parent calss is Animal\n",
        "    def __init__(self, name, age):\n",
        "        Animal.__init__(self, age) # call Animal constructor\n",
        "        self.set_name(name) # call Animal's method\n",
        "        self.friends = [] # add a new data attribute\n",
        "    def get_friends(self): # new getter\n",
        "        return self.friends\n",
        "    def add_friend(self, fname): # new setter\n",
        "        if fname not in self.friends:\n",
        "            self.friends.append(fname)\n",
        "    def speak(self):\n",
        "        print('hello')\n",
        "    def age_diff(self, other):\n",
        "        diff = self.age - other.age\n",
        "        print(f'{abs(diff)} year difference')\n",
        "    def __str__(self):\n",
        "        return f'person: {str(self.name)}:{str(self.age)}'"
      ],
      "execution_count": 0,
      "outputs": []
    },
    {
      "cell_type": "code",
      "metadata": {
        "id": "N_RBoWqrym8w",
        "colab_type": "code",
        "outputId": "faac8bdf-e2d7-4ec8-d93f-eabade18945b",
        "colab": {
          "base_uri": "https://localhost:8080/",
          "height": 176
        }
      },
      "source": [
        "# example\n",
        "p1 = Person('jack', 30)\n",
        "p2 = Person('jill', 25)\n",
        "print(p1.get_name())\n",
        "print(p1.get_age())\n",
        "print(p2.get_name())\n",
        "print(p2.get_age())\n",
        "print(p1)\n",
        "print(p1.speak())\n",
        "print(p1.age_diff(p2))"
      ],
      "execution_count": 0,
      "outputs": [
        {
          "output_type": "stream",
          "text": [
            "jack\n",
            "30\n",
            "jill\n",
            "25\n",
            "person: jack:30\n",
            "hello\n",
            "None\n",
            "5 year difference\n",
            "None\n"
          ],
          "name": "stdout"
        }
      ]
    },
    {
      "cell_type": "code",
      "metadata": {
        "id": "run4ZPqzzQlx",
        "colab_type": "code",
        "colab": {}
      },
      "source": [
        "# another example\n",
        "import random\n",
        "\n",
        "class Student(Person): # inherits Person and Animal attributes\n",
        "    def __init__(self, name, age, major=None):\n",
        "        Person.__init__(self, name, age)\n",
        "        self.major = major\n",
        "    def change_major(self, major):\n",
        "        self.major = major\n",
        "    def speak(self):\n",
        "        r = random.random()\n",
        "        if r < 0.25:\n",
        "            print('I have homework.')\n",
        "        elif 0.25 <= r < 0.5:\n",
        "            print('I need sleep.')\n",
        "        elif 0.5 <= r < 0.75:\n",
        "            print('I should eat')\n",
        "        else:\n",
        "            print('I am watching tv.')\n",
        "    def __str__(self):\n",
        "        return f'student: {str(self.name)}: {str(self.age)} : {str(self.major)}'"
      ],
      "execution_count": 0,
      "outputs": []
    },
    {
      "cell_type": "code",
      "metadata": {
        "id": "Vwy2QTNF0ZeF",
        "colab_type": "code",
        "outputId": "49626129-388f-4368-c237-2c86dae30218",
        "colab": {
          "base_uri": "https://localhost:8080/",
          "height": 87
        }
      },
      "source": [
        "s1 = Student('alice', 20, 'CS')\n",
        "s2 = Student('beth', 18)\n",
        "print(s1)\n",
        "print(s2)\n",
        "print(s1.get_name(), 'says:', end=' ')\n",
        "s1.speak()\n",
        "print(s2.get_name(), 'says:', end=' ')\n",
        "s2.speak()"
      ],
      "execution_count": 0,
      "outputs": [
        {
          "output_type": "stream",
          "text": [
            "student: alice: 20 : CS\n",
            "student: beth: 18 : None\n",
            "alice says: I should eat\n",
            "beth says: I am watching tv.\n"
          ],
          "name": "stdout"
        }
      ]
    },
    {
      "cell_type": "markdown",
      "metadata": {
        "id": "269ZRKzx2NfV",
        "colab_type": "text"
      },
      "source": [
        "### _Class Variables and the `Rabbit` Subclass_\n",
        "\n",
        "- class variables and their values are shared between all instances of a class"
      ]
    },
    {
      "cell_type": "code",
      "metadata": {
        "id": "r3TkJNRC1S5F",
        "colab_type": "code",
        "colab": {}
      },
      "source": [
        "class Rabbit(Animal): # Animal is parent class\n",
        "    tag = 1 # class variable\n",
        "    def __init__(self, age, parent1=None, parent2=None):\n",
        "        Animal.__init__(self, age)\n",
        "        self.parent1 = parent1\n",
        "        self.parent2 = parent2\n",
        "        self.rid = Rabbit.tag # instance variable = access class variable\n",
        "        Rabbit.tag += 1"
      ],
      "execution_count": 0,
      "outputs": []
    },
    {
      "cell_type": "markdown",
      "metadata": {
        "id": "Rn7OSRe12lpj",
        "colab_type": "text"
      },
      "source": [
        "- `tag` used to give unique id to each new rabbit instance\n",
        "\n",
        "### _`Rabbit` Getter Methods_"
      ]
    },
    {
      "cell_type": "code",
      "metadata": {
        "id": "KCZByhI52kJP",
        "colab_type": "code",
        "colab": {}
      },
      "source": [
        "class Rabbit(Animal): # Animal is parent class\n",
        "    tag = 1 # class variable\n",
        "    def __init__(self, age, parent1=None, parent2=None):\n",
        "        Animal.__init__(self, age)\n",
        "        self.parent1 = parent1\n",
        "        self.parent2 = parent2\n",
        "        self.rid = Rabbit.tag # instance variable = access class variable\n",
        "        Rabbit.tag += 1\n",
        "    def get_rid(self): # all are getter methods specific to Rabbit class\n",
        "        return str(self.rid).zfill(3) # method on a string to pad beginning with zeros\n",
        "    def get_parent1(self):\n",
        "        return self.parent1\n",
        "    def get_parent2(self):\n",
        "        return self.parent2\n",
        "    # are also getters get_name and get_age inherited from Animal"
      ],
      "execution_count": 0,
      "outputs": []
    },
    {
      "cell_type": "markdown",
      "metadata": {
        "id": "43P38ZMg4qgA",
        "colab_type": "text"
      },
      "source": [
        "### _Working with your own types_\n",
        "```\n",
        "def __add__(self, other):\n",
        "    # returning object of same type as this class\n",
        "    return Rabbit(0, self, other)\n",
        "```\n",
        "- define plus operator between two `Rabbit` instances\n",
        "    - define what something like this does `r4 = r1 + r2` where r1 and r2 are Rabbit instances\n",
        "    - `r4` is a new `Rabbit` instance with age 0\n",
        "        - has `self` as one parent and `other` as other parent\n",
        "    - in `__init__` parent1 and parent2 are of type `Rabbit`"
      ]
    },
    {
      "cell_type": "code",
      "metadata": {
        "id": "KJokJnxX4f4u",
        "colab_type": "code",
        "outputId": "39aaaf64-1784-4543-c106-101e4153b1f7",
        "colab": {
          "base_uri": "https://localhost:8080/",
          "height": 123
        }
      },
      "source": [
        "class Rabbit(Animal): # Animal is parent class\n",
        "    tag = 1 # class variable\n",
        "    def __init__(self, age, parent1=None, parent2=None):\n",
        "        Animal.__init__(self, age)\n",
        "        self.parent1 = parent1\n",
        "        self.parent2 = parent2\n",
        "        self.rid = Rabbit.tag # instance variable = access class variable\n",
        "        Rabbit.tag += 1\n",
        "    def get_rid(self): # all are getter methods specific to Rabbit class\n",
        "        return str(self.rid).zfill(3) # method on a string to pad beginning with zeros\n",
        "    def get_parent1(self):\n",
        "        return self.parent1\n",
        "    def get_parent2(self):\n",
        "        return self.parent2\n",
        "    def __add__(self, other):\n",
        "        # returning object of same type as this class\n",
        "        return Rabbit(0, self, other)\n",
        "\n",
        "r1 = Rabbit(3)\n",
        "r2 = Rabbit(4)\n",
        "r3 = Rabbit(5)\n",
        "r4 = r1 + r2\n",
        "print(r1)\n",
        "print(r2)\n",
        "print(r4)\n",
        "print(r1.get_parent1())\n",
        "print(r1.get_parent2())\n",
        "print(r4.get_parent1())"
      ],
      "execution_count": 0,
      "outputs": [
        {
          "output_type": "stream",
          "text": [
            "animal: None:3\n",
            "animal: None:4\n",
            "animal: None:0\n",
            "None\n",
            "None\n",
            "animal: None:3\n"
          ],
          "name": "stdout"
        }
      ]
    },
    {
      "cell_type": "code",
      "metadata": {
        "id": "FxyqIRmg5ggm",
        "colab_type": "code",
        "colab": {}
      },
      "source": [
        "class Rabbit(Animal):\n",
        "    # a class variable, tag, shared across all instances\n",
        "    tag = 1\n",
        "    def __init__(self, age, parent1=None, parent2=None):\n",
        "        Animal.__init__(self, age)\n",
        "        self.parent1 = parent1\n",
        "        self.parent2 = parent2\n",
        "        self.rid = Rabbit.tag\n",
        "        Rabbit.tag += 1\n",
        "    def get_rid(self):\n",
        "        # zfill used to add leading zeroes 001 instead of 1\n",
        "        return str(self.rid).zfill(3)\n",
        "    def get_parent1(self):\n",
        "        return self.parent1\n",
        "    def get_parent2(self):\n",
        "        return self.parent2\n",
        "    def __add__(self, other):\n",
        "        # returning object of same type as this class\n",
        "        return Rabbit(0, self, other)\n",
        "    def __eq__(self, other):\n",
        "        # compare the ids of self and other's parents\n",
        "        # don't care about the order of the parents\n",
        "        # the backslash tells python I want to break up my line\n",
        "        parents_same = self.parent1.rid == other.parent1.rid \\\n",
        "                       and self.parent2.rid == other.parent2.rid\n",
        "        parents_opposite = self.parent2.rid == other.parent1.rid \\\n",
        "                           and self.parent1.rid == other.parent2.rid\n",
        "        return parents_same or parents_opposite\n",
        "    def __str__(self):\n",
        "        return \"rabbit:\"+ self.get_rid()"
      ],
      "execution_count": 0,
      "outputs": []
    },
    {
      "cell_type": "code",
      "metadata": {
        "id": "6w0Dwevp6mM6",
        "colab_type": "code",
        "outputId": "e043991e-e43e-475c-9ba0-1df8573b62c8",
        "colab": {
          "base_uri": "https://localhost:8080/",
          "height": 158
        }
      },
      "source": [
        "print(\"\\n---- rabbit tests ----\")\n",
        "print(\"---- testing creating rabbits ----\")\n",
        "r1 = Rabbit(3)\n",
        "r2 = Rabbit(4)\n",
        "r3 = Rabbit(5)\n",
        "print(\"r1:\", r1)\n",
        "print(\"r2:\", r2)\n",
        "print(\"r3:\", r3)\n",
        "print(\"r1 parent1:\", r1.get_parent1())\n",
        "print(\"r1 parent2:\", r1.get_parent2())"
      ],
      "execution_count": 0,
      "outputs": [
        {
          "output_type": "stream",
          "text": [
            "\n",
            "---- rabbit tests ----\n",
            "---- testing creating rabbits ----\n",
            "r1: rabbit:001\n",
            "r2: rabbit:002\n",
            "r3: rabbit:003\n",
            "r1 parent1: None\n",
            "r1 parent2: None\n"
          ],
          "name": "stdout"
        }
      ]
    },
    {
      "cell_type": "code",
      "metadata": {
        "id": "SyIqC0BI6pme",
        "colab_type": "code",
        "colab": {}
      },
      "source": [
        "# question 1\n",
        "class Car(object):\n",
        "    def __init__(self, w, d):\n",
        "        self.wheels = w\n",
        "        self.doors = d\n",
        "        self.color = ''"
      ],
      "execution_count": 0,
      "outputs": []
    },
    {
      "cell_type": "code",
      "metadata": {
        "id": "hA3ZRtBl6_Gq",
        "colab_type": "code",
        "colab": {}
      },
      "source": [
        "# getter method for number of wheels\n",
        "def get_wheels(self):\n",
        "    return self.wheels"
      ],
      "execution_count": 0,
      "outputs": []
    },
    {
      "cell_type": "code",
      "metadata": {
        "id": "pOPNPudi7QBG",
        "colab_type": "code",
        "colab": {}
      },
      "source": [
        "# question 2\n"
      ],
      "execution_count": 0,
      "outputs": []
    }
  ]
}